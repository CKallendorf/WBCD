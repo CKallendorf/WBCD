{
 "cells": [
  {
   "cell_type": "markdown",
   "metadata": {},
   "source": [
    "## 1.  Introduction\n",
    "Based on a medical patient’s biopsy, it needs to be determined whether the investigated tissue contains malignant, i. e. cancer cells. In order to react to the growth of cancer cells quickly and appropriately, it is necessary to define such cells at an early state. A Machine Learning model can be able to identify breast cancer reliably for a given sample. The classification is itself based on a defined set of cytology features from biopsies, such as shape and size. As a result, cytology features obtained from biopsies enable a Machine Learning model to provide an effective, accurate and fast diagnosis. "
   ]
  },
  {
   "cell_type": "markdown",
   "metadata": {},
   "source": [
    "## 2. Pre - processing of data  "
   ]
  },
  {
   "cell_type": "markdown",
   "metadata": {},
   "source": [
    "In preparation, we import required libraries for mathematics, plotting and text processing:"
   ]
  },
  {
   "cell_type": "code",
   "execution_count": 6,
   "metadata": {},
   "outputs": [],
   "source": [
    "import io\n",
    "import os\n",
    "\n",
    "import matplotlib.pyplot as plt\n",
    "import numpy as np \n",
    "import pandas as pd "
   ]
  },
  {
   "cell_type": "markdown",
   "metadata": {},
   "source": [
    "and additionally, SageMaker specific libaries, which are used for setting up session variables, which will be used later on: "
   ]
  },
  {
   "cell_type": "code",
   "execution_count": 7,
   "metadata": {},
   "outputs": [],
   "source": [
    "import boto3\n",
    "import sagemaker\n",
    "from sagemaker import get_execution_role\n",
    "#Obtain Sagemaker session\n",
    "session=sagemaker.Session()\n",
    "#Sagemaker default execution role\n",
    "role=sagemaker.get_execution_role()\n",
    "#Set S3 bucket variable\n",
    "bucket=session.default_bucket()"
   ]
  },
  {
   "cell_type": "markdown",
   "metadata": {},
   "source": [
    "The original data  .csv file is read in as DataFrame:"
   ]
  },
  {
   "cell_type": "code",
   "execution_count": 17,
   "metadata": {},
   "outputs": [
    {
     "name": "stdout",
     "output_type": "stream",
     "text": [
      "(699, 11)\n"
     ]
    },
    {
     "data": {
      "text/html": [
       "<div>\n",
       "<style scoped>\n",
       "    .dataframe tbody tr th:only-of-type {\n",
       "        vertical-align: middle;\n",
       "    }\n",
       "\n",
       "    .dataframe tbody tr th {\n",
       "        vertical-align: top;\n",
       "    }\n",
       "\n",
       "    .dataframe thead th {\n",
       "        text-align: right;\n",
       "    }\n",
       "</style>\n",
       "<table border=\"1\" class=\"dataframe\">\n",
       "  <thead>\n",
       "    <tr style=\"text-align: right;\">\n",
       "      <th></th>\n",
       "      <th>id</th>\n",
       "      <th>thickness</th>\n",
       "      <th>size</th>\n",
       "      <th>shape</th>\n",
       "      <th>adhesion</th>\n",
       "      <th>single</th>\n",
       "      <th>nuclei</th>\n",
       "      <th>chromatin</th>\n",
       "      <th>nucleoli</th>\n",
       "      <th>mitosis</th>\n",
       "      <th>class</th>\n",
       "    </tr>\n",
       "  </thead>\n",
       "  <tbody>\n",
       "    <tr>\n",
       "      <th>0</th>\n",
       "      <td>1000025</td>\n",
       "      <td>5</td>\n",
       "      <td>1</td>\n",
       "      <td>1</td>\n",
       "      <td>1</td>\n",
       "      <td>2</td>\n",
       "      <td>1.0</td>\n",
       "      <td>3</td>\n",
       "      <td>1</td>\n",
       "      <td>1</td>\n",
       "      <td>0</td>\n",
       "    </tr>\n",
       "    <tr>\n",
       "      <th>1</th>\n",
       "      <td>1002945</td>\n",
       "      <td>5</td>\n",
       "      <td>4</td>\n",
       "      <td>4</td>\n",
       "      <td>5</td>\n",
       "      <td>7</td>\n",
       "      <td>10.0</td>\n",
       "      <td>3</td>\n",
       "      <td>2</td>\n",
       "      <td>1</td>\n",
       "      <td>0</td>\n",
       "    </tr>\n",
       "    <tr>\n",
       "      <th>2</th>\n",
       "      <td>1015425</td>\n",
       "      <td>3</td>\n",
       "      <td>1</td>\n",
       "      <td>1</td>\n",
       "      <td>1</td>\n",
       "      <td>2</td>\n",
       "      <td>2.0</td>\n",
       "      <td>3</td>\n",
       "      <td>1</td>\n",
       "      <td>1</td>\n",
       "      <td>0</td>\n",
       "    </tr>\n",
       "    <tr>\n",
       "      <th>3</th>\n",
       "      <td>1016277</td>\n",
       "      <td>6</td>\n",
       "      <td>8</td>\n",
       "      <td>8</td>\n",
       "      <td>1</td>\n",
       "      <td>3</td>\n",
       "      <td>4.0</td>\n",
       "      <td>3</td>\n",
       "      <td>7</td>\n",
       "      <td>1</td>\n",
       "      <td>0</td>\n",
       "    </tr>\n",
       "    <tr>\n",
       "      <th>4</th>\n",
       "      <td>1017023</td>\n",
       "      <td>4</td>\n",
       "      <td>1</td>\n",
       "      <td>1</td>\n",
       "      <td>3</td>\n",
       "      <td>2</td>\n",
       "      <td>1.0</td>\n",
       "      <td>3</td>\n",
       "      <td>1</td>\n",
       "      <td>1</td>\n",
       "      <td>0</td>\n",
       "    </tr>\n",
       "  </tbody>\n",
       "</table>\n",
       "</div>"
      ],
      "text/plain": [
       "        id  thickness  size  shape  adhesion  single  nuclei  chromatin  \\\n",
       "0  1000025          5     1      1         1       2     1.0          3   \n",
       "1  1002945          5     4      4         5       7    10.0          3   \n",
       "2  1015425          3     1      1         1       2     2.0          3   \n",
       "3  1016277          6     8      8         1       3     4.0          3   \n",
       "4  1017023          4     1      1         3       2     1.0          3   \n",
       "\n",
       "   nucleoli  mitosis  class  \n",
       "0         1        1      0  \n",
       "1         2        1      0  \n",
       "2         1        1      0  \n",
       "3         7        1      0  \n",
       "4         1        1      0  "
      ]
     },
     "execution_count": 17,
     "metadata": {},
     "output_type": "execute_result"
    }
   ],
   "source": [
    "file_path='data/datasets_17259_22663_wisconsin_breast_cancer.csv'\n",
    "\n",
    "file_df=pd.read_csv(file_path)\n",
    "print(file_df.shape)\n",
    "file_df.head()"
   ]
  },
  {
   "cell_type": "markdown",
   "metadata": {},
   "source": [
    "In preparation to further processing, rows with null values, duplicates are dropped and the column with identifiers is removed. Further indexing of data will be done by row numbers. "
   ]
  },
  {
   "cell_type": "code",
   "execution_count": 73,
   "metadata": {},
   "outputs": [
    {
     "name": "stdout",
     "output_type": "stream",
     "text": [
      "After removal of samples with null values: (675, 10)\n",
      "After removal of duplicates: (449, 10)\n"
     ]
    },
    {
     "ename": "KeyError",
     "evalue": "\"['id'] not found in axis\"",
     "output_type": "error",
     "traceback": [
      "\u001b[0;31m---------------------------------------------------------------------------\u001b[0m",
      "\u001b[0;31mKeyError\u001b[0m                                  Traceback (most recent call last)",
      "\u001b[0;32m<ipython-input-73-3dd5f0ef2130>\u001b[0m in \u001b[0;36m<module>\u001b[0;34m\u001b[0m\n\u001b[1;32m      7\u001b[0m \u001b[0mdf_total\u001b[0m\u001b[0;34m=\u001b[0m\u001b[0mfile_df\u001b[0m\u001b[0;34m\u001b[0m\u001b[0;34m\u001b[0m\u001b[0m\n\u001b[1;32m      8\u001b[0m \u001b[0;31m# Remove IDs\u001b[0m\u001b[0;34m\u001b[0m\u001b[0;34m\u001b[0m\u001b[0;34m\u001b[0m\u001b[0m\n\u001b[0;32m----> 9\u001b[0;31m \u001b[0mfile_df\u001b[0m\u001b[0;34m=\u001b[0m\u001b[0mfile_df\u001b[0m\u001b[0;34m.\u001b[0m\u001b[0mdrop\u001b[0m\u001b[0;34m(\u001b[0m\u001b[0mcolumns\u001b[0m\u001b[0;34m=\u001b[0m\u001b[0;34m'id'\u001b[0m\u001b[0;34m)\u001b[0m\u001b[0;34m\u001b[0m\u001b[0;34m\u001b[0m\u001b[0m\n\u001b[0m",
      "\u001b[0;32m~/anaconda3/envs/mxnet_p36/lib/python3.6/site-packages/pandas/core/frame.py\u001b[0m in \u001b[0;36mdrop\u001b[0;34m(self, labels, axis, index, columns, level, inplace, errors)\u001b[0m\n\u001b[1;32m   3995\u001b[0m             \u001b[0mlevel\u001b[0m\u001b[0;34m=\u001b[0m\u001b[0mlevel\u001b[0m\u001b[0;34m,\u001b[0m\u001b[0;34m\u001b[0m\u001b[0;34m\u001b[0m\u001b[0m\n\u001b[1;32m   3996\u001b[0m             \u001b[0minplace\u001b[0m\u001b[0;34m=\u001b[0m\u001b[0minplace\u001b[0m\u001b[0;34m,\u001b[0m\u001b[0;34m\u001b[0m\u001b[0;34m\u001b[0m\u001b[0m\n\u001b[0;32m-> 3997\u001b[0;31m             \u001b[0merrors\u001b[0m\u001b[0;34m=\u001b[0m\u001b[0merrors\u001b[0m\u001b[0;34m,\u001b[0m\u001b[0;34m\u001b[0m\u001b[0;34m\u001b[0m\u001b[0m\n\u001b[0m\u001b[1;32m   3998\u001b[0m         )\n\u001b[1;32m   3999\u001b[0m \u001b[0;34m\u001b[0m\u001b[0m\n",
      "\u001b[0;32m~/anaconda3/envs/mxnet_p36/lib/python3.6/site-packages/pandas/core/generic.py\u001b[0m in \u001b[0;36mdrop\u001b[0;34m(self, labels, axis, index, columns, level, inplace, errors)\u001b[0m\n\u001b[1;32m   3934\u001b[0m         \u001b[0;32mfor\u001b[0m \u001b[0maxis\u001b[0m\u001b[0;34m,\u001b[0m \u001b[0mlabels\u001b[0m \u001b[0;32min\u001b[0m \u001b[0maxes\u001b[0m\u001b[0;34m.\u001b[0m\u001b[0mitems\u001b[0m\u001b[0;34m(\u001b[0m\u001b[0;34m)\u001b[0m\u001b[0;34m:\u001b[0m\u001b[0;34m\u001b[0m\u001b[0;34m\u001b[0m\u001b[0m\n\u001b[1;32m   3935\u001b[0m             \u001b[0;32mif\u001b[0m \u001b[0mlabels\u001b[0m \u001b[0;32mis\u001b[0m \u001b[0;32mnot\u001b[0m \u001b[0;32mNone\u001b[0m\u001b[0;34m:\u001b[0m\u001b[0;34m\u001b[0m\u001b[0;34m\u001b[0m\u001b[0m\n\u001b[0;32m-> 3936\u001b[0;31m                 \u001b[0mobj\u001b[0m \u001b[0;34m=\u001b[0m \u001b[0mobj\u001b[0m\u001b[0;34m.\u001b[0m\u001b[0m_drop_axis\u001b[0m\u001b[0;34m(\u001b[0m\u001b[0mlabels\u001b[0m\u001b[0;34m,\u001b[0m \u001b[0maxis\u001b[0m\u001b[0;34m,\u001b[0m \u001b[0mlevel\u001b[0m\u001b[0;34m=\u001b[0m\u001b[0mlevel\u001b[0m\u001b[0;34m,\u001b[0m \u001b[0merrors\u001b[0m\u001b[0;34m=\u001b[0m\u001b[0merrors\u001b[0m\u001b[0;34m)\u001b[0m\u001b[0;34m\u001b[0m\u001b[0;34m\u001b[0m\u001b[0m\n\u001b[0m\u001b[1;32m   3937\u001b[0m \u001b[0;34m\u001b[0m\u001b[0m\n\u001b[1;32m   3938\u001b[0m         \u001b[0;32mif\u001b[0m \u001b[0minplace\u001b[0m\u001b[0;34m:\u001b[0m\u001b[0;34m\u001b[0m\u001b[0;34m\u001b[0m\u001b[0m\n",
      "\u001b[0;32m~/anaconda3/envs/mxnet_p36/lib/python3.6/site-packages/pandas/core/generic.py\u001b[0m in \u001b[0;36m_drop_axis\u001b[0;34m(self, labels, axis, level, errors)\u001b[0m\n\u001b[1;32m   3968\u001b[0m                 \u001b[0mnew_axis\u001b[0m \u001b[0;34m=\u001b[0m \u001b[0maxis\u001b[0m\u001b[0;34m.\u001b[0m\u001b[0mdrop\u001b[0m\u001b[0;34m(\u001b[0m\u001b[0mlabels\u001b[0m\u001b[0;34m,\u001b[0m \u001b[0mlevel\u001b[0m\u001b[0;34m=\u001b[0m\u001b[0mlevel\u001b[0m\u001b[0;34m,\u001b[0m \u001b[0merrors\u001b[0m\u001b[0;34m=\u001b[0m\u001b[0merrors\u001b[0m\u001b[0;34m)\u001b[0m\u001b[0;34m\u001b[0m\u001b[0;34m\u001b[0m\u001b[0m\n\u001b[1;32m   3969\u001b[0m             \u001b[0;32melse\u001b[0m\u001b[0;34m:\u001b[0m\u001b[0;34m\u001b[0m\u001b[0;34m\u001b[0m\u001b[0m\n\u001b[0;32m-> 3970\u001b[0;31m                 \u001b[0mnew_axis\u001b[0m \u001b[0;34m=\u001b[0m \u001b[0maxis\u001b[0m\u001b[0;34m.\u001b[0m\u001b[0mdrop\u001b[0m\u001b[0;34m(\u001b[0m\u001b[0mlabels\u001b[0m\u001b[0;34m,\u001b[0m \u001b[0merrors\u001b[0m\u001b[0;34m=\u001b[0m\u001b[0merrors\u001b[0m\u001b[0;34m)\u001b[0m\u001b[0;34m\u001b[0m\u001b[0;34m\u001b[0m\u001b[0m\n\u001b[0m\u001b[1;32m   3971\u001b[0m             \u001b[0mresult\u001b[0m \u001b[0;34m=\u001b[0m \u001b[0mself\u001b[0m\u001b[0;34m.\u001b[0m\u001b[0mreindex\u001b[0m\u001b[0;34m(\u001b[0m\u001b[0;34m**\u001b[0m\u001b[0;34m{\u001b[0m\u001b[0maxis_name\u001b[0m\u001b[0;34m:\u001b[0m \u001b[0mnew_axis\u001b[0m\u001b[0;34m}\u001b[0m\u001b[0;34m)\u001b[0m\u001b[0;34m\u001b[0m\u001b[0;34m\u001b[0m\u001b[0m\n\u001b[1;32m   3972\u001b[0m \u001b[0;34m\u001b[0m\u001b[0m\n",
      "\u001b[0;32m~/anaconda3/envs/mxnet_p36/lib/python3.6/site-packages/pandas/core/indexes/base.py\u001b[0m in \u001b[0;36mdrop\u001b[0;34m(self, labels, errors)\u001b[0m\n\u001b[1;32m   5015\u001b[0m         \u001b[0;32mif\u001b[0m \u001b[0mmask\u001b[0m\u001b[0;34m.\u001b[0m\u001b[0many\u001b[0m\u001b[0;34m(\u001b[0m\u001b[0;34m)\u001b[0m\u001b[0;34m:\u001b[0m\u001b[0;34m\u001b[0m\u001b[0;34m\u001b[0m\u001b[0m\n\u001b[1;32m   5016\u001b[0m             \u001b[0;32mif\u001b[0m \u001b[0merrors\u001b[0m \u001b[0;34m!=\u001b[0m \u001b[0;34m\"ignore\"\u001b[0m\u001b[0;34m:\u001b[0m\u001b[0;34m\u001b[0m\u001b[0;34m\u001b[0m\u001b[0m\n\u001b[0;32m-> 5017\u001b[0;31m                 \u001b[0;32mraise\u001b[0m \u001b[0mKeyError\u001b[0m\u001b[0;34m(\u001b[0m\u001b[0;34mf\"{labels[mask]} not found in axis\"\u001b[0m\u001b[0;34m)\u001b[0m\u001b[0;34m\u001b[0m\u001b[0;34m\u001b[0m\u001b[0m\n\u001b[0m\u001b[1;32m   5018\u001b[0m             \u001b[0mindexer\u001b[0m \u001b[0;34m=\u001b[0m \u001b[0mindexer\u001b[0m\u001b[0;34m[\u001b[0m\u001b[0;34m~\u001b[0m\u001b[0mmask\u001b[0m\u001b[0;34m]\u001b[0m\u001b[0;34m\u001b[0m\u001b[0;34m\u001b[0m\u001b[0m\n\u001b[1;32m   5019\u001b[0m         \u001b[0;32mreturn\u001b[0m \u001b[0mself\u001b[0m\u001b[0;34m.\u001b[0m\u001b[0mdelete\u001b[0m\u001b[0;34m(\u001b[0m\u001b[0mindexer\u001b[0m\u001b[0;34m)\u001b[0m\u001b[0;34m\u001b[0m\u001b[0;34m\u001b[0m\u001b[0m\n",
      "\u001b[0;31mKeyError\u001b[0m: \"['id'] not found in axis\""
     ]
    }
   ],
   "source": [
    "#remove null values and duplicates\n",
    "file_df=file_df.dropna()\n",
    "print('After removal of samples with null values:', file_df.shape)\n",
    "file_df=file_df.drop_duplicates()\n",
    "print('After removal of duplicates:', file_df.shape)\n",
    "file_df.head()\n",
    "df_total=file_df\n",
    "# Remove IDs\n",
    "file_df=file_df.drop(columns='id')"
   ]
  },
  {
   "cell_type": "markdown",
   "metadata": {},
   "source": [
    "After this, let's first check the ratio between the different data samples"
   ]
  },
  {
   "cell_type": "code",
   "execution_count": 1096,
   "metadata": {},
   "outputs": [
    {
     "name": "stdout",
     "output_type": "stream",
     "text": [
      "Total samples with malignant tumor 236\n",
      "Percentage with malignant tumor 0.3496296296296296\n",
      "Total samples with benign tumor 439\n",
      "Total samples with benign tumor 0.6503703703703704\n"
     ]
    }
   ],
   "source": [
    "#Explore data classification \n",
    "value_counts=file_df['class'].value_counts()\n",
    "print('Total samples with malignant tumor', value_counts[1]) \n",
    "\n",
    "percentage_malignant=value_counts[1]/(value_counts[0]+value_counts[1])\n",
    "print('Percentage with malignant tumor', percentage_malignant) \n",
    "\n",
    "percentage_benign=value_counts[0]/(value_counts[0]+value_counts[1])\n",
    "print('Total samples with benign tumor', value_counts[0]) \n",
    "print('Total samples with benign tumor', percentage_benign) "
   ]
  },
  {
   "cell_type": "markdown",
   "metadata": {},
   "source": [
    "## 3. Data exploration\n",
    "For illustration purposes, distribution of data samples will be plotted with respect to two features (pairwise). Images are stores as .png files in a folder 'pictures'. It can be noticed, that the features are roughly distributed in the different quadrants; however, the each feature pair also contains a few outliers. "
   ]
  },
  {
   "cell_type": "code",
   "execution_count": 1097,
   "metadata": {},
   "outputs": [],
   "source": [
    "# For viewing plots in notebook, uncomment plt.show()\n",
    "def plot_feature_distribution(df,column_pos_1, column_pos_2):\n",
    "    '''Create a scatter plot for two different features and a given DataFrame of relevant input data\n",
    "       :param df: Dataframe of original data set that includes features and binary labels, i.e. in this case \n",
    "                  0=benign and 1=malignant probes)\n",
    "       :column_pos_1: First feature to be used in plot\n",
    "       :column_pos_2: Second feature to be used in plot\n",
    "       '''\n",
    "    x_dat=df.iloc[:,column_pos_1]\n",
    "    y_dat=df.iloc[:,column_pos_2]\n",
    "    x_label=df.columns.values[column_pos_1]\n",
    "    y_label=df.columns.values[column_pos_2]\n",
    "    #Color is determined by cell classification\n",
    "    color_c=df.iloc[:, -1]\n",
    "    scatter = plt.scatter(x_dat,y_dat,c=color_c)\n",
    "    title='Sample distribution for ' + x_label+' and '+ y_label\n",
    "    plt.title(title)\n",
    "    plt.xlabel(x_label)\n",
    "    plt.ylabel(y_label)\n",
    "    #plt.show()\n",
    "    plt.savefig('pictures/'+ title +'.png') "
   ]
  },
  {
   "cell_type": "code",
   "execution_count": 1377,
   "metadata": {},
   "outputs": [
    {
     "data": {
      "image/png": "[encoded data removed]",
      "text/plain": [
       "<Figure size 432x288 with 1 Axes>"
      ]
     },
     "metadata": {
      "needs_background": "light"
     },
     "output_type": "display_data"
    }
   ],
   "source": [
    "for i in range(9):\n",
    "    for j in range(9):\n",
    "        if i!=j: \n",
    "            plot_feature_distribution(file_df, i, j)"
   ]
  },
  {
   "cell_type": "markdown",
   "metadata": {},
   "source": [
    "Interesting is also to question whether any two of these features are highly correlated and could be omitted, for example, when establishing a \"standardized\" cancer diagnosis procedure based on image data:    "
   ]
  },
  {
   "cell_type": "code",
   "execution_count": 1375,
   "metadata": {},
   "outputs": [
    {
     "data": {
      "image/png": "[encoded data removed]",
      "text/plain": [
       "<Figure size 432x288 with 2 Axes>"
      ]
     },
     "metadata": {
      "needs_background": "light"
     },
     "output_type": "display_data"
    }
   ],
   "source": [
    "import seaborn as sbn\n",
    "\n",
    "feat_corr=np.corrcoef(file_df.values[0:9])\n",
    "labels=file_df.keys()\n",
    "labels=labels[0:9]\n",
    "sbn.heatmap(feat_corr, annot=True, xticklabels=labels, yticklabels=labels)\n",
    "plt.show()"
   ]
  },
  {
   "cell_type": "markdown",
   "metadata": {},
   "source": [
    "## 4. Data preparation\n",
    "A training, test and validation data set is prepared for further steps. The order of the data set is randomized and data is partitioned. The 'class' column,  which provides a vector of labels, is separated.   "
   ]
  },
  {
   "cell_type": "code",
   "execution_count": 74,
   "metadata": {},
   "outputs": [],
   "source": [
    "def train_test_split(file_df, train_frac= 0.5, valid_frac=0.0, seed=1):\n",
    "    '''Shuffle the samples and split into train and test sets using the seed function for randomizing;\n",
    "       separate the data classification from the features into a vector of labels.\n",
    "       :param file_df: Dataframe of original data set that includes features and labels.\n",
    "       :param train_frac: The decimal fraction of data that should be training data\n",
    "       :param valid_frac: The decimal fraction of data that should be validation data, default no validation\n",
    "       :param seed: Random seed for shuffling and reproducibility, default = 1\n",
    "       :return: Two tuples (in order): (train_features, train_labels), (test_features, test_labels)\n",
    "       '''\n",
    "    \n",
    "    # convert the df into a matrix for ease of splitting\n",
    "    df_matrix = file_df.to_numpy()\n",
    "    \n",
    "    # shuffle the data\n",
    "    np.random.seed(seed)\n",
    "    np.random.shuffle(df_matrix)\n",
    "    \n",
    "    #first ratio provides training data \n",
    "    train_size = int(df_matrix.shape[0] * train_frac)\n",
    "    train_features  = df_matrix[:train_size, :-1]\n",
    "    train_labels = df_matrix[:train_size, -1]\n",
    "    validation_size = int(df_matrix.shape[0] * (train_frac+valid_frac))\n",
    "    \n",
    "    if validation_size > 0:\n",
    "        # second ratio provides test data\n",
    "        test_features = df_matrix[train_size:validation_size, :-1]\n",
    "        test_labels = df_matrix[train_size:validation_size, -1]\n",
    "        # third ratio provides validation data\n",
    "        validation_features = df_matrix[validation_size:, :-1]\n",
    "        validation_labels = df_matrix[validation_size:, -1]\n",
    "    else:\n",
    "        test_features = df_matrix[train_size:, :-1]\n",
    "        test_labels = df_matrix[train_size:, -1]\n",
    "        validation_features=np.array('empty')\n",
    "        validation_labels=np.array('empty')\n",
    "    \n",
    "    return (train_features, train_labels), (test_features, test_labels), (validation_features, validation_labels)\n"
   ]
  },
  {
   "cell_type": "markdown",
   "metadata": {},
   "source": [
    "This method is appied to the pre-processed data, in order to separate train and test features and corresponding labels:"
   ]
  },
  {
   "cell_type": "code",
   "execution_count": 75,
   "metadata": {},
   "outputs": [],
   "source": [
    "(train_features, train_labels), (test_features, test_labels), (validation_features, validation_labels)=train_test_split(file_df,train_frac=0.5,valid_frac=0.25)"
   ]
  },
  {
   "cell_type": "code",
   "execution_count": 1104,
   "metadata": {},
   "outputs": [
    {
     "name": "stdout",
     "output_type": "stream",
     "text": [
      "records in training set:  337\n",
      "records in testing set:  169\n",
      "records in validation set:  169\n"
     ]
    }
   ],
   "source": [
    "print('records in training set: ',train_features.shape[0])\n",
    "print('records in testing set: ',test_features.shape[0])\n",
    "print('records in validation set: ',validation_features.shape[0])"
   ]
  },
  {
   "cell_type": "markdown",
   "metadata": {},
   "source": [
    "Next, the record sets are prepared as csv files and uploaded to S3 directory."
   ]
  },
  {
   "cell_type": "code",
   "execution_count": 77,
   "metadata": {},
   "outputs": [],
   "source": [
    "def data_as_txt(name, features, labels=None):\n",
    "    ''' Method that combines features and labels to a .csv file and stores in s3 default bucket. \n",
    "        param features: Feature samples\n",
    "        param labels: Class labels corresponding to features. These will be inserted in first column, as required for XGBoost. \n",
    "                      Can be empty, to account for test features.   \n",
    "        param name: Name under which the respective file should be stored. \n",
    "    '''\n",
    "    df1=pd.DataFrame(features)\n",
    "    if labels is not None:\n",
    "        df2 = pd.DataFrame(labels)   \n",
    "        frames=[df2,df1]\n",
    "        df=pd.concat(frames, axis=1)\n",
    "    else:\n",
    "        df=df1\n",
    "#save locally\n",
    "#tbd check path exists\n",
    "    path_loc = os.path.join('data/', name)\n",
    "   \n",
    "    df.to_csv(path_loc,index=False, header=False)\n",
    "#save in S3 bucket\n",
    "    prefix='WBCD'\n",
    "    session.upload_data(path_loc, bucket, prefix)\n",
    "    \n",
    "    path_s3=os.path.join('s3://', bucket, prefix, name)\n",
    "    print(path_s3)\n",
    "#return path to S3 bucket\n",
    "    return path_s3"
   ]
  },
  {
   "cell_type": "code",
   "execution_count": 78,
   "metadata": {},
   "outputs": [
    {
     "name": "stdout",
     "output_type": "stream",
     "text": [
      "s3://sagemaker-eu-central-1-237055357929/WBCD/train.csv\n",
      "s3://sagemaker-eu-central-1-237055357929/WBCD/validation.csv\n",
      "s3://sagemaker-eu-central-1-237055357929/WBCD/test.csv\n"
     ]
    }
   ],
   "source": [
    "# path to training data in S3 bucket\n",
    "path_s3 = data_as_txt(name='train.csv',features= train_features, labels=train_labels)\n",
    "# path to validation data in S3 bucket\n",
    "path_s3_val = data_as_txt(name='validation.csv', features=validation_features,labels=validation_labels)\n",
    "#path to test data in S3 bucket\n",
    "path_s3_test = data_as_txt(name='test.csv', features=test_features)"
   ]
  },
  {
   "cell_type": "markdown",
   "metadata": {},
   "source": [
    "Finally, we define a function for the evaluation metrics which are in focus of this investigation, namely, accuracy, specificity, and recall. The function stores all results including further information in a separate file of results. "
   ]
  },
  {
   "cell_type": "code",
   "execution_count": 1336,
   "metadata": {},
   "outputs": [],
   "source": [
    "def eval_metrics(test_labels, test_predictions, estimator=None):\n",
    "    ''' Function which evaluates accuracy, specificity and recall of the data and saves results, \n",
    "        complemented by hyperparameters, to a csv file\n",
    "        param test_labels: the correct labels of original test data\n",
    "        param test_predictions: the predicted labels of the test data\n",
    "        param estimator: the estimator that was used, details on hyperparameters will be appended to the results\n",
    "    '''\n",
    "    tp = np.logical_and(test_labels, test_predictions).sum()\n",
    "    fp = np.logical_and(1-test_labels, test_predictions).sum()\n",
    "    tn = np.logical_and(1-test_labels, 1-test_predictions).sum()\n",
    "    fn = np.logical_and(test_labels, 1-test_predictions).sum()\n",
    "    \n",
    "    # calculate binary classification metrics\n",
    "    recall = tp / (tp + fn)\n",
    "    specitivity= tn / (fn + tn)\n",
    "    accuracy = (tp + tn) / (tp + fp + tn + fn)\n",
    "    \n",
    "    print(\"Accuracy: \", accuracy)\n",
    "    print(\"Specificity: \", specitivity)\n",
    "    print(\"Recall: \", recall)\n",
    "    \n",
    "    estimator_class=estimator.__class__.__name__\n",
    "    \n",
    "    f=csv.writer(open('evaluation/metrics.csv','a+'))\n",
    "    f.writerow([\"Evaluation metrics using\", estimator_class ])\n",
    "    f.writerow([\"Accuracy\", accuracy])\n",
    "    f.writerow([\"Specificity: \", specitivity])\n",
    "    f.writerow([\"Recall\", recall])\n",
    "    f.writerow([\"Estimator parameters:\",])\n",
    "    \n",
    "    if estimator_class =='XGBRegressor':        \n",
    "        d=estimator.get_params()\n",
    "    elif estimator_class =='Estimator':\n",
    "        d=estimator.hyperparameters()\n",
    "    else: \n",
    "        d={'Estimator_Obj':'unknown estimator'}\n",
    "        \n",
    "    for key, val in d.items():\n",
    "        f.writerow([key , val])\n",
    "   "
   ]
  },
  {
   "cell_type": "markdown",
   "metadata": {},
   "source": [
    "### 3. Scikit XGBoost\n",
    "For an initial investigation of parameters that cannot be checked by using a hyperparameter training, a first \"quick\" check can be done using the xgboost package, see also https://xgboost.readthedocs.io/en/latest/python/python_intro.html. \n",
    "This may need to be pip-installed on the notebook."
   ]
  },
  {
   "cell_type": "code",
   "execution_count": 58,
   "metadata": {},
   "outputs": [
    {
     "name": "stderr",
     "output_type": "stream",
     "text": [
      "WARNING: pip is being invoked by an old script wrapper. This will fail in a future version of pip.\n",
      "Please see https://github.com/pypa/pip/issues/5599 for advice on fixing the underlying issue.\n",
      "To avoid this problem you can invoke Python with '-m pip' instead of running pip directly.\n"
     ]
    },
    {
     "name": "stdout",
     "output_type": "stream",
     "text": [
      "Collecting xgboost\n",
      "  Downloading xgboost-1.1.1-py3-none-manylinux2010_x86_64.whl (127.6 MB)\n",
      "Requirement already satisfied: numpy in /home/ec2-user/anaconda3/envs/mxnet_p36/lib/python3.6/site-packages (from xgboost) (1.18.1)\n",
      "Requirement already satisfied: scipy in /home/ec2-user/anaconda3/envs/mxnet_p36/lib/python3.6/site-packages (from xgboost) (1.4.1)\n",
      "Installing collected packages: xgboost\n",
      "Successfully installed xgboost-1.1.1\n"
     ]
    },
    {
     "name": "stderr",
     "output_type": "stream",
     "text": [
      "WARNING: You are using pip version 20.0.2; however, version 20.2.2 is available.\n",
      "You should consider upgrading via the '/home/ec2-user/anaconda3/envs/mxnet_p36/bin/python -m pip install --upgrade pip' command.\n"
     ]
    },
    {
     "data": {
      "text/plain": [
       "0"
      ]
     },
     "execution_count": 58,
     "metadata": {},
     "output_type": "execute_result"
    }
   ],
   "source": [
    "#local installation of xgboost\n",
    "import pip\n",
    "pip.main(['install', 'xgboost'])"
   ]
  },
  {
   "cell_type": "code",
   "execution_count": 1329,
   "metadata": {},
   "outputs": [],
   "source": [
    "from xgboost import XGBRegressor"
   ]
  },
  {
   "cell_type": "markdown",
   "metadata": {},
   "source": [
    "We first set up and train the XGBooster for different combinations of: \n",
    "- booster:'dart', 'gblinear', 'gbtree'\n",
    "- evaluation metrics: 'mae', 'RMSE', 'error','mlogloss'\n",
    "- tree method: 'auto', 'exact', 'approx', 'hist'"
   ]
  },
  {
   "cell_type": "code",
   "execution_count": 1330,
   "metadata": {},
   "outputs": [],
   "source": [
    "#booster:'dart', 'gblinear', 'gbtree'\n",
    "#eval_metrix: ['mae', 'RMSE', 'error','mlogloss']),\n",
    "#'tree method': ['auto', 'exact', 'approx', 'hist']\n",
    "xgb_reg=XGBRegressor(\n",
    "            base_score=0.5, \n",
    "            booster='gblinear', \n",
    "            objective='binary:hinge',\n",
    "            eval_metric='mae',\n",
    "            tree_method='hist',\n",
    "            validate_parameters=1\n",
    ")"
   ]
  },
  {
   "cell_type": "code",
   "execution_count": 1331,
   "metadata": {},
   "outputs": [
    {
     "data": {
      "text/plain": [
       "XGBClassifier(base_score=0.5, booster='gblinear', colsample_bylevel=None,\n",
       "              colsample_bynode=None, colsample_bytree=None, eval_metric='mae',\n",
       "              gamma=None, gpu_id=-1, importance_type='gain',\n",
       "              interaction_constraints=None, learning_rate=0.5,\n",
       "              max_delta_step=None, max_depth=None, min_child_weight=None,\n",
       "              missing=nan, monotone_constraints=None, n_estimators=100,\n",
       "              n_jobs=0, num_parallel_tree=None, objective='binary:hinge',\n",
       "              random_state=0, reg_alpha=0, reg_lambda=0, scale_pos_weight=None,\n",
       "              subsample=None, tree_method='hist', validate_parameters=1,\n",
       "              verbosity=None)"
      ]
     },
     "execution_count": 1331,
     "metadata": {},
     "output_type": "execute_result"
    }
   ],
   "source": [
    "xgb_reg.fit(train_features, train_labels)"
   ]
  },
  {
   "cell_type": "markdown",
   "metadata": {},
   "source": [
    "For each parameter combination, we predict the lables, i. e. classifications, of the test features and check its accuracy, specificity and recall by the eval metrics method."
   ]
  },
  {
   "cell_type": "code",
   "execution_count": 1337,
   "metadata": {},
   "outputs": [
    {
     "name": "stdout",
     "output_type": "stream",
     "text": [
      "Accuracy:  0.9704142011834319\n",
      "Specitivity:  0.9693877551020408\n",
      "Recall:  0.9583333333333334\n"
     ]
    }
   ],
   "source": [
    "test_lab_pred=xgb_reg.predict(test_features)\n",
    "eval_metrics(test_labels, test_lab_pred, xgb_reg)"
   ]
  },
  {
   "cell_type": "markdown",
   "metadata": {},
   "source": [
    "### 4. Setup Sagemaker XGBoost \n"
   ]
  },
  {
   "cell_type": "markdown",
   "metadata": {},
   "source": [
    "Now we are ready to build a model using the respective sagemaker package. \n",
    "To prepare for further ('future') processing steps, we use an external entry point given by the file source/train.py."
   ]
  },
  {
   "cell_type": "code",
   "execution_count": 1342,
   "metadata": {},
   "outputs": [],
   "source": [
    "from sagemaker.xgboost.estimator import XGBoost\n",
    "hyperparameters = {\n",
    "        'booster':'gbtree',\n",
    "        'tree_method':'exact',\n",
    "        'objective': 'binary:hinge',\n",
    "        'num_round' : 200,\n",
    "        'max_depth': 9,\n",
    "        'eta': 0.3,\n",
    "        'gamma': 0.0,\n",
    "        'eval_metric':'rmse'\n",
    "    }\n",
    "xgb_estimator = XGBoost(\n",
    "    entry_point=\"source/train.py\",\n",
    "    hyperparameters=hyperparameters,\n",
    "    role=role,\n",
    "    train_instance_count=1,\n",
    "    train_instance_type=\"ml.c4.xlarge\",\n",
    "    framework_version=\"1.0-1\"\n",
    ")"
   ]
  },
  {
   "cell_type": "markdown",
   "metadata": {},
   "source": [
    "We use sagemaker's hyperparameter tuner from tuner package in order to find optimal combinations of the following parameters by a Bayesian optimization approach:  \n",
    "- numerical rounds,\n",
    "- maximal depth of the tree, \n",
    "as well as gamma and eta. Note that the hyperparameter tuning requires not only training, but also validation data. "
   ]
  },
  {
   "cell_type": "code",
   "execution_count": 1343,
   "metadata": {},
   "outputs": [],
   "source": [
    "from sagemaker.tuner import IntegerParameter, ContinuousParameter, CategoricalParameter,HyperparameterTuner \n",
    "\n",
    "xgb_tuner=HyperparameterTuner(\n",
    "            estimator=xgb_estimator,\n",
    "            objective_metric_name='validation:rmse',\n",
    "            hyperparameter_ranges={\n",
    "                    'num_round': IntegerParameter(40,200),\n",
    "                    'max_depth': IntegerParameter(6,12),\n",
    "                    'eta': ContinuousParameter(0,0.4),\n",
    "                    'gamma': ContinuousParameter(0,1)\n",
    "            },\n",
    "            metric_definitions=None,\n",
    "            strategy='Bayesian',\n",
    "            objective_type='Minimize',\n",
    "            max_jobs=20,\n",
    "            max_parallel_jobs=4,\n",
    "            tags=None,\n",
    "            base_tuning_job_name=None,\n",
    "            warm_start_config=None,\n",
    "            early_stopping_type='Off',\n",
    "            estimator_name=None\n",
    "            )"
   ]
  },
  {
   "cell_type": "code",
   "execution_count": null,
   "metadata": {},
   "outputs": [
    {
     "name": "stdout",
     "output_type": "stream",
     "text": [
      "_TuningJob.start_new!!!\n"
     ]
    },
    {
     "name": "stderr",
     "output_type": "stream",
     "text": [
      "WARNING: 's3_input' class will be renamed to 'TrainingInput' in SageMaker Python SDK v2.\n",
      "WARNING: 's3_input' class will be renamed to 'TrainingInput' in SageMaker Python SDK v2.\n"
     ]
    },
    {
     "name": "stdout",
     "output_type": "stream",
     "text": [
      "Creating hyperparameter tuning job with name: sagemaker-xgboost-200812-1459\n",
      "...."
     ]
    }
   ],
   "source": [
    "xgb_tuner.fit({'train': path_s3,'validation': path_s3_val}, content_type='text/csv', split_type='Line')\n",
    "xgb_tuner.wait()"
   ]
  },
  {
   "cell_type": "markdown",
   "metadata": {},
   "source": [
    "We add the optimized training job parameters to an estimator. \n",
    "Check in AWS hyperparameter optimization jobs which combinations within the defined hyperparameter ranges have been investigated throughout the tuning. "
   ]
  },
  {
   "cell_type": "code",
   "execution_count": 1347,
   "metadata": {},
   "outputs": [
    {
     "name": "stderr",
     "output_type": "stream",
     "text": [
      "WARNING: Parameter image_name will be renamed to image_uri in SageMaker Python SDK v2.\n"
     ]
    },
    {
     "name": "stdout",
     "output_type": "stream",
     "text": [
      "2020-08-12 15:12:09 Starting - Preparing the instances for training\n",
      "2020-08-12 15:12:09 Downloading - Downloading input data\n",
      "2020-08-12 15:12:09 Training - Training image download completed. Training in progress.\n",
      "2020-08-12 15:12:09 Uploading - Uploading generated training model\n",
      "2020-08-12 15:12:09 Completed - Training job completed\u001b[34mINFO:sagemaker-containers:Imported framework sagemaker_xgboost_container.training\u001b[0m\n",
      "\u001b[34mINFO:sagemaker-containers:Failed to parse hyperparameter _tuning_objective_metric value validation:rmse to Json.\u001b[0m\n",
      "\u001b[34mReturning the value itself\u001b[0m\n",
      "\u001b[34mINFO:sagemaker-containers:No GPUs detected (normal if no gpus installed)\u001b[0m\n",
      "\u001b[34mINFO:sagemaker_xgboost_container.training:Invoking user training script.\u001b[0m\n",
      "\u001b[34mINFO:sagemaker-containers:Module train does not provide a setup.py. \u001b[0m\n",
      "\u001b[34mGenerating setup.py\u001b[0m\n",
      "\u001b[34mINFO:sagemaker-containers:Generating setup.cfg\u001b[0m\n",
      "\u001b[34mINFO:sagemaker-containers:Generating MANIFEST.in\u001b[0m\n",
      "\u001b[34mINFO:sagemaker-containers:Installing module with the following command:\u001b[0m\n",
      "\u001b[34m/miniconda3/bin/python -m pip install . \u001b[0m\n",
      "\u001b[34mProcessing /opt/ml/code\u001b[0m\n",
      "\u001b[34mBuilding wheels for collected packages: train\n",
      "  Building wheel for train (setup.py): started\u001b[0m\n",
      "\u001b[34m  Building wheel for train (setup.py): finished with status 'done'\n",
      "  Created wheel for train: filename=train-1.0.0-py2.py3-none-any.whl size=5587 sha256=23ee30889c7a31da32df276c82ec005a0312da1dd7a5ec62b20ba3bee55ee17a\n",
      "  Stored in directory: /home/model-server/tmp/pip-ephem-wheel-cache-48cpe5pj/wheels/95/c1/85/65aaf48b35aba88c6e896d2fd04a4b69f1cee0d81ea32993ca\u001b[0m\n",
      "\u001b[34mSuccessfully built train\u001b[0m\n",
      "\u001b[34mInstalling collected packages: train\u001b[0m\n",
      "\u001b[34mSuccessfully installed train-1.0.0\u001b[0m\n",
      "\u001b[34mINFO:sagemaker-containers:Failed to parse hyperparameter _tuning_objective_metric value validation:rmse to Json.\u001b[0m\n",
      "\u001b[34mReturning the value itself\u001b[0m\n",
      "\u001b[34mINFO:sagemaker-containers:No GPUs detected (normal if no gpus installed)\u001b[0m\n",
      "\u001b[34mINFO:sagemaker-containers:Invoking user script\n",
      "\u001b[0m\n",
      "\u001b[34mTraining Env:\n",
      "\u001b[0m\n",
      "\u001b[34m{\n",
      "    \"additional_framework_parameters\": {\n",
      "        \"sagemaker_estimator_module\": \"sagemaker.xgboost.estimator\",\n",
      "        \"sagemaker_estimator_class_name\": \"XGBoost\"\n",
      "    },\n",
      "    \"channel_input_dirs\": {\n",
      "        \"validation\": \"/opt/ml/input/data/validation\",\n",
      "        \"train\": \"/opt/ml/input/data/train\"\n",
      "    },\n",
      "    \"current_host\": \"algo-1\",\n",
      "    \"framework_module\": \"sagemaker_xgboost_container.training:main\",\n",
      "    \"hosts\": [\n",
      "        \"algo-1\"\n",
      "    ],\n",
      "    \"hyperparameters\": {\n",
      "        \"tree_method\": \"exact\",\n",
      "        \"eval_metric\": \"rmse\",\n",
      "        \"max_depth\": 10,\n",
      "        \"booster\": \"gbtree\",\n",
      "        \"objective\": \"binary:hinge\",\n",
      "        \"eta\": 0.2572110893586683,\n",
      "        \"num_round\": 135,\n",
      "        \"gamma\": 0.5662623155210383\n",
      "    },\n",
      "    \"input_config_dir\": \"/opt/ml/input/config\",\n",
      "    \"input_data_config\": {\n",
      "        \"validation\": {\n",
      "            \"TrainingInputMode\": \"File\",\n",
      "            \"S3DistributionType\": \"FullyReplicated\",\n",
      "            \"RecordWrapperType\": \"None\"\n",
      "        },\n",
      "        \"train\": {\n",
      "            \"TrainingInputMode\": \"File\",\n",
      "            \"S3DistributionType\": \"FullyReplicated\",\n",
      "            \"RecordWrapperType\": \"None\"\n",
      "        }\n",
      "    },\n",
      "    \"input_dir\": \"/opt/ml/input\",\n",
      "    \"is_master\": true,\n",
      "    \"job_name\": \"sagemaker-xgboost-200812-1459-012-1bc91eba\",\n",
      "    \"log_level\": 20,\n",
      "    \"master_hostname\": \"algo-1\",\n",
      "    \"model_dir\": \"/opt/ml/model\",\n",
      "    \"module_dir\": \"s3://sagemaker-eu-central-1-237055357929/sagemaker-xgboost-2020-08-12-14-59-53-748/source/sourcedir.tar.gz\",\n",
      "    \"module_name\": \"train\",\n",
      "    \"network_interface_name\": \"eth0\",\n",
      "    \"num_cpus\": 4,\n",
      "    \"num_gpus\": 0,\n",
      "    \"output_data_dir\": \"/opt/ml/output/data\",\n",
      "    \"output_dir\": \"/opt/ml/output\",\n",
      "    \"output_intermediate_dir\": \"/opt/ml/output/intermediate\",\n",
      "    \"resource_config\": {\n",
      "        \"current_host\": \"algo-1\",\n",
      "        \"hosts\": [\n",
      "            \"algo-1\"\n",
      "        ],\n",
      "        \"network_interface_name\": \"eth0\"\n",
      "    },\n",
      "    \"user_entry_point\": \"train.py\"\u001b[0m\n",
      "\u001b[34m}\n",
      "\u001b[0m\n",
      "\u001b[34mEnvironment variables:\n",
      "\u001b[0m\n",
      "\u001b[34mSM_HOSTS=[\"algo-1\"]\u001b[0m\n",
      "\u001b[34mSM_NETWORK_INTERFACE_NAME=eth0\u001b[0m\n",
      "\u001b[34mSM_HPS={\"booster\":\"gbtree\",\"eta\":0.2572110893586683,\"eval_metric\":\"rmse\",\"gamma\":0.5662623155210383,\"max_depth\":10,\"num_round\":135,\"objective\":\"binary:hinge\",\"tree_method\":\"exact\"}\u001b[0m\n",
      "\u001b[34mSM_USER_ENTRY_POINT=train.py\u001b[0m\n",
      "\u001b[34mSM_FRAMEWORK_PARAMS={\"sagemaker_estimator_class_name\":\"XGBoost\",\"sagemaker_estimator_module\":\"sagemaker.xgboost.estimator\"}\u001b[0m\n",
      "\u001b[34mSM_RESOURCE_CONFIG={\"current_host\":\"algo-1\",\"hosts\":[\"algo-1\"],\"network_interface_name\":\"eth0\"}\u001b[0m\n",
      "\u001b[34mSM_INPUT_DATA_CONFIG={\"train\":{\"RecordWrapperType\":\"None\",\"S3DistributionType\":\"FullyReplicated\",\"TrainingInputMode\":\"File\"},\"validation\":{\"RecordWrapperType\":\"None\",\"S3DistributionType\":\"FullyReplicated\",\"TrainingInputMode\":\"File\"}}\u001b[0m\n",
      "\u001b[34mSM_OUTPUT_DATA_DIR=/opt/ml/output/data\u001b[0m\n",
      "\u001b[34mSM_CHANNELS=[\"train\",\"validation\"]\u001b[0m\n",
      "\u001b[34mSM_CURRENT_HOST=algo-1\u001b[0m\n",
      "\u001b[34mSM_MODULE_NAME=train\u001b[0m\n",
      "\u001b[34mSM_LOG_LEVEL=20\u001b[0m\n",
      "\u001b[34mSM_FRAMEWORK_MODULE=sagemaker_xgboost_container.training:main\u001b[0m\n",
      "\u001b[34mSM_INPUT_DIR=/opt/ml/input\u001b[0m\n",
      "\u001b[34mSM_INPUT_CONFIG_DIR=/opt/ml/input/config\u001b[0m\n",
      "\u001b[34mSM_OUTPUT_DIR=/opt/ml/output\u001b[0m\n",
      "\u001b[34mSM_NUM_CPUS=4\u001b[0m\n",
      "\u001b[34mSM_NUM_GPUS=0\u001b[0m\n",
      "\u001b[34mSM_MODEL_DIR=/opt/ml/model\u001b[0m\n",
      "\u001b[34mSM_MODULE_DIR=s3://sagemaker-eu-central-1-237055357929/sagemaker-xgboost-2020-08-12-14-59-53-748/source/sourcedir.tar.gz\u001b[0m\n",
      "\u001b[34mSM_TRAINING_ENV={\"additional_framework_parameters\":{\"sagemaker_estimator_class_name\":\"XGBoost\",\"sagemaker_estimator_module\":\"sagemaker.xgboost.estimator\"},\"channel_input_dirs\":{\"train\":\"/opt/ml/input/data/train\",\"validation\":\"/opt/ml/input/data/validation\"},\"current_host\":\"algo-1\",\"framework_module\":\"sagemaker_xgboost_container.training:main\",\"hosts\":[\"algo-1\"],\"hyperparameters\":{\"booster\":\"gbtree\",\"eta\":0.2572110893586683,\"eval_metric\":\"rmse\",\"gamma\":0.5662623155210383,\"max_depth\":10,\"num_round\":135,\"objective\":\"binary:hinge\",\"tree_method\":\"exact\"},\"input_config_dir\":\"/opt/ml/input/config\",\"input_data_config\":{\"train\":{\"RecordWrapperType\":\"None\",\"S3DistributionType\":\"FullyReplicated\",\"TrainingInputMode\":\"File\"},\"validation\":{\"RecordWrapperType\":\"None\",\"S3DistributionType\":\"FullyReplicated\",\"TrainingInputMode\":\"File\"}},\"input_dir\":\"/opt/ml/input\",\"is_master\":true,\"job_name\":\"sagemaker-xgboost-200812-1459-012-1bc91eba\",\"log_level\":20,\"master_hostname\":\"algo-1\",\"model_dir\":\"/opt/ml/model\",\"module_dir\":\"s3://sagemaker-eu-central-1-237055357929/sagemaker-xgboost-2020-08-12-14-59-53-748/source/sourcedir.tar.gz\",\"module_name\":\"train\",\"network_interface_name\":\"eth0\",\"num_cpus\":4,\"num_gpus\":0,\"output_data_dir\":\"/opt/ml/output/data\",\"output_dir\":\"/opt/ml/output\",\"output_intermediate_dir\":\"/opt/ml/output/intermediate\",\"resource_config\":{\"current_host\":\"algo-1\",\"hosts\":[\"algo-1\"],\"network_interface_name\":\"eth0\"},\"user_entry_point\":\"train.py\"}\u001b[0m\n",
      "\u001b[34mSM_USER_ARGS=[\"--booster\",\"gbtree\",\"--eta\",\"0.2572110893586683\",\"--eval_metric\",\"rmse\",\"--gamma\",\"0.5662623155210383\",\"--max_depth\",\"10\",\"--num_round\",\"135\",\"--objective\",\"binary:hinge\",\"--tree_method\",\"exact\"]\u001b[0m\n",
      "\u001b[34mSM_OUTPUT_INTERMEDIATE_DIR=/opt/ml/output/intermediate\u001b[0m\n",
      "\u001b[34mSM_CHANNEL_VALIDATION=/opt/ml/input/data/validation\u001b[0m\n",
      "\u001b[34mSM_CHANNEL_TRAIN=/opt/ml/input/data/train\u001b[0m\n",
      "\u001b[34mSM_HP_TREE_METHOD=exact\u001b[0m\n",
      "\u001b[34mSM_HP_EVAL_METRIC=rmse\u001b[0m\n",
      "\u001b[34mSM_HP_MAX_DEPTH=10\u001b[0m\n",
      "\u001b[34mSM_HP_BOOSTER=gbtree\u001b[0m\n",
      "\u001b[34mSM_HP_OBJECTIVE=binary:hinge\u001b[0m\n",
      "\u001b[34mSM_HP_ETA=0.2572110893586683\u001b[0m\n",
      "\u001b[34mSM_HP_NUM_ROUND=135\u001b[0m\n",
      "\u001b[34mSM_HP_GAMMA=0.5662623155210383\u001b[0m\n",
      "\u001b[34mPYTHONPATH=/miniconda3/bin:/:/miniconda3/lib/python3.6/site-packages/xgboost/dmlc-core/tracker:/miniconda3/lib/python36.zip:/miniconda3/lib/python3.6:/miniconda3/lib/python3.6/lib-dynload:/miniconda3/lib/python3.6/site-packages\n",
      "\u001b[0m\n",
      "\u001b[34mInvoking script with the following command:\n",
      "\u001b[0m\n",
      "\u001b[34m/miniconda3/bin/python -m train --booster gbtree --eta 0.2572110893586683 --eval_metric rmse --gamma 0.5662623155210383 --max_depth 10 --num_round 135 --objective binary:hinge --tree_method exact\n",
      "\n",
      "\u001b[0m\n",
      "\u001b[34mDone parsing hyperparameters.\u001b[0m\n",
      "\u001b[34mDone parsing arguments.\u001b[0m\n",
      "\u001b[34m[15:11:56] 337x9 matrix with 3033 entries loaded from /opt/ml/input/data/train?format=csv&label_column=0&delimiter=,\u001b[0m\n",
      "\u001b[34m[15:11:56] 169x9 matrix with 1521 entries loaded from /opt/ml/input/data/validation?format=csv&label_column=0&delimiter=,\u001b[0m\n",
      "\u001b[34mDone defining data and host information.\u001b[0m\n",
      "\u001b[34mDone loading hosts.\u001b[0m\n",
      "\u001b[34mDone setting up hyperparams\u001b[0m\n",
      "\u001b[34mDone training\u001b[0m\n",
      "\u001b[34m[15:11:56] WARNING: /workspace/src/learner.cc:328: \u001b[0m\n",
      "\u001b[34mParameters: { n_estimators } might not be used.\n",
      "\n",
      "  This may not be accurate due to some parameters are only used in language bindings but\n",
      "  passed down to XGBoost core.  Or some parameters are not used but slip through this\n",
      "  verification. Please open an issue if you find above cases.\n",
      "\n",
      "\u001b[0m\n",
      "\u001b[34m[0]#011train-rmse:0.81164#011validation-rmse:0.84265\u001b[0m\n",
      "\u001b[34m[1]#011train-rmse:0.21097#011validation-rmse:0.29792\u001b[0m\n",
      "\u001b[34m[2]#011train-rmse:0.10895#011validation-rmse:0.24325\u001b[0m\n",
      "\u001b[34m[3]#011train-rmse:0.07704#011validation-rmse:0.23077\u001b[0m\n",
      "\u001b[34m[4]#011train-rmse:0.05447#011validation-rmse:0.23077\u001b[0m\n",
      "\u001b[34m[5]#011train-rmse:0.05447#011validation-rmse:0.21757\u001b[0m\n",
      "\u001b[34m[6]#011train-rmse:0.00000#011validation-rmse:0.24325\u001b[0m\n",
      "\u001b[34m[7]#011train-rmse:0.00000#011validation-rmse:0.23077\u001b[0m\n",
      "\u001b[34m[8]#011train-rmse:0.00000#011validation-rmse:0.24325\u001b[0m\n",
      "\u001b[34m[9]#011train-rmse:0.00000#011validation-rmse:0.23077\u001b[0m\n",
      "\u001b[34m[10]#011train-rmse:0.00000#011validation-rmse:0.21757\u001b[0m\n",
      "\u001b[34m[11]#011train-rmse:0.00000#011validation-rmse:0.21757\u001b[0m\n",
      "\u001b[34m[12]#011train-rmse:0.00000#011validation-rmse:0.20352\u001b[0m\n",
      "\u001b[34m[13]#011train-rmse:0.00000#011validation-rmse:0.23077\u001b[0m\n",
      "\u001b[34m[14]#011train-rmse:0.00000#011validation-rmse:0.21757\u001b[0m\n",
      "\u001b[34m[15]#011train-rmse:0.00000#011validation-rmse:0.23077\u001b[0m\n",
      "\u001b[34m[16]#011train-rmse:0.00000#011validation-rmse:0.21757\u001b[0m\n",
      "\u001b[34m[17]#011train-rmse:0.00000#011validation-rmse:0.21757\u001b[0m\n",
      "\u001b[34m[18]#011train-rmse:0.00000#011validation-rmse:0.20352\u001b[0m\n",
      "\u001b[34m[19]#011train-rmse:0.00000#011validation-rmse:0.20352\u001b[0m\n",
      "\u001b[34m[20]#011train-rmse:0.00000#011validation-rmse:0.20352\u001b[0m\n",
      "\u001b[34m[21]#011train-rmse:0.00000#011validation-rmse:0.21757\u001b[0m\n",
      "\u001b[34m[22]#011train-rmse:0.00000#011validation-rmse:0.20352\u001b[0m\n",
      "\u001b[34m[23]#011train-rmse:0.00000#011validation-rmse:0.21757\u001b[0m\n",
      "\u001b[34m[24]#011train-rmse:0.00000#011validation-rmse:0.21757\u001b[0m\n",
      "\u001b[34m[25]#011train-rmse:0.00000#011validation-rmse:0.20352\u001b[0m\n",
      "\u001b[34m[26]#011train-rmse:0.00000#011validation-rmse:0.21757\u001b[0m\n",
      "\u001b[34m[27]#011train-rmse:0.00000#011validation-rmse:0.20352\u001b[0m\n",
      "\u001b[34m[28]#011train-rmse:0.00000#011validation-rmse:0.21757\u001b[0m\n",
      "\u001b[34m[29]#011train-rmse:0.00000#011validation-rmse:0.20352\u001b[0m\n",
      "\u001b[34m[30]#011train-rmse:0.00000#011validation-rmse:0.21757\u001b[0m\n",
      "\u001b[34m[31]#011train-rmse:0.00000#011validation-rmse:0.20352\u001b[0m\n",
      "\u001b[34m[32]#011train-rmse:0.00000#011validation-rmse:0.20352\u001b[0m\n",
      "\u001b[34m[33]#011train-rmse:0.00000#011validation-rmse:0.20352\u001b[0m\n",
      "\u001b[34m[34]#011train-rmse:0.00000#011validation-rmse:0.20352\u001b[0m\n",
      "\u001b[34m[35]#011train-rmse:0.00000#011validation-rmse:0.20352\u001b[0m\n",
      "\u001b[34m[36]#011train-rmse:0.00000#011validation-rmse:0.20352\u001b[0m\n",
      "\u001b[34m[37]#011train-rmse:0.00000#011validation-rmse:0.20352\u001b[0m\n",
      "\u001b[34m[38]#011train-rmse:0.00000#011validation-rmse:0.20352\u001b[0m\n",
      "\u001b[34m[39]#011train-rmse:0.00000#011validation-rmse:0.20352\u001b[0m\n",
      "\u001b[34m[40]#011train-rmse:0.00000#011validation-rmse:0.20352\u001b[0m\n",
      "\u001b[34m[41]#011train-rmse:0.00000#011validation-rmse:0.20352\u001b[0m\n",
      "\u001b[34m[42]#011train-rmse:0.00000#011validation-rmse:0.20352\u001b[0m\n",
      "\u001b[34m[43]#011train-rmse:0.00000#011validation-rmse:0.20352\u001b[0m\n",
      "\u001b[34m[44]#011train-rmse:0.00000#011validation-rmse:0.20352\u001b[0m\n",
      "\u001b[34m[45]#011train-rmse:0.00000#011validation-rmse:0.20352\u001b[0m\n",
      "\u001b[34m[46]#011train-rmse:0.00000#011validation-rmse:0.20352\u001b[0m\n",
      "\u001b[34m[47]#011train-rmse:0.00000#011validation-rmse:0.20352\u001b[0m\n",
      "\u001b[34m[48]#011train-rmse:0.00000#011validation-rmse:0.20352\u001b[0m\n",
      "\u001b[34m[49]#011train-rmse:0.00000#011validation-rmse:0.20352\u001b[0m\n",
      "\u001b[34m[50]#011train-rmse:0.00000#011validation-rmse:0.20352\u001b[0m\n",
      "\u001b[34m[51]#011train-rmse:0.00000#011validation-rmse:0.20352\u001b[0m\n",
      "\u001b[34m[52]#011train-rmse:0.00000#011validation-rmse:0.20352\u001b[0m\n",
      "\u001b[34m[53]#011train-rmse:0.00000#011validation-rmse:0.20352\u001b[0m\n",
      "\u001b[34m[54]#011train-rmse:0.00000#011validation-rmse:0.20352\u001b[0m\n",
      "\u001b[34m[55]#011train-rmse:0.00000#011validation-rmse:0.20352\u001b[0m\n",
      "\u001b[34m[56]#011train-rmse:0.00000#011validation-rmse:0.20352\u001b[0m\n",
      "\u001b[34m[57]#011train-rmse:0.00000#011validation-rmse:0.20352\u001b[0m\n",
      "\u001b[34m[58]#011train-rmse:0.00000#011validation-rmse:0.20352\u001b[0m\n",
      "\u001b[34m[59]#011train-rmse:0.00000#011validation-rmse:0.20352\u001b[0m\n",
      "\u001b[34m[60]#011train-rmse:0.00000#011validation-rmse:0.20352\u001b[0m\n",
      "\u001b[34m[61]#011train-rmse:0.00000#011validation-rmse:0.20352\u001b[0m\n",
      "\u001b[34m[62]#011train-rmse:0.00000#011validation-rmse:0.20352\u001b[0m\n",
      "\u001b[34m[63]#011train-rmse:0.00000#011validation-rmse:0.20352\u001b[0m\n",
      "\u001b[34m[64]#011train-rmse:0.00000#011validation-rmse:0.20352\u001b[0m\n",
      "\u001b[34m[65]#011train-rmse:0.00000#011validation-rmse:0.20352\u001b[0m\n",
      "\u001b[34m[66]#011train-rmse:0.00000#011validation-rmse:0.20352\u001b[0m\n",
      "\u001b[34m[67]#011train-rmse:0.00000#011validation-rmse:0.20352\u001b[0m\n",
      "\u001b[34m[68]#011train-rmse:0.00000#011validation-rmse:0.20352\u001b[0m\n",
      "\u001b[34m[69]#011train-rmse:0.00000#011validation-rmse:0.20352\u001b[0m\n",
      "\u001b[34m[70]#011train-rmse:0.00000#011validation-rmse:0.20352\u001b[0m\n",
      "\u001b[34m[71]#011train-rmse:0.00000#011validation-rmse:0.20352\u001b[0m\n",
      "\u001b[34m[72]#011train-rmse:0.00000#011validation-rmse:0.20352\u001b[0m\n",
      "\u001b[34m[73]#011train-rmse:0.00000#011validation-rmse:0.20352\u001b[0m\n",
      "\u001b[34m[74]#011train-rmse:0.00000#011validation-rmse:0.20352\u001b[0m\n",
      "\u001b[34m[75]#011train-rmse:0.00000#011validation-rmse:0.20352\u001b[0m\n",
      "\u001b[34m[76]#011train-rmse:0.00000#011validation-rmse:0.20352\u001b[0m\n",
      "\u001b[34m[77]#011train-rmse:0.00000#011validation-rmse:0.20352\u001b[0m\n",
      "\u001b[34m[78]#011train-rmse:0.00000#011validation-rmse:0.20352\u001b[0m\n",
      "\u001b[34m[79]#011train-rmse:0.00000#011validation-rmse:0.20352\u001b[0m\n",
      "\u001b[34m[80]#011train-rmse:0.00000#011validation-rmse:0.20352\u001b[0m\n",
      "\u001b[34m[81]#011train-rmse:0.00000#011validation-rmse:0.20352\u001b[0m\n",
      "\u001b[34m[82]#011train-rmse:0.00000#011validation-rmse:0.20352\u001b[0m\n",
      "\u001b[34m[83]#011train-rmse:0.00000#011validation-rmse:0.20352\u001b[0m\n",
      "\u001b[34m[84]#011train-rmse:0.00000#011validation-rmse:0.20352\u001b[0m\n",
      "\u001b[34m[85]#011train-rmse:0.00000#011validation-rmse:0.20352\u001b[0m\n",
      "\u001b[34m[86]#011train-rmse:0.00000#011validation-rmse:0.20352\u001b[0m\n",
      "\u001b[34m[87]#011train-rmse:0.00000#011validation-rmse:0.20352\u001b[0m\n",
      "\u001b[34m[88]#011train-rmse:0.00000#011validation-rmse:0.20352\u001b[0m\n",
      "\u001b[34m[89]#011train-rmse:0.00000#011validation-rmse:0.20352\u001b[0m\n",
      "\u001b[34m[90]#011train-rmse:0.00000#011validation-rmse:0.20352\u001b[0m\n",
      "\u001b[34m[91]#011train-rmse:0.00000#011validation-rmse:0.20352\u001b[0m\n",
      "\u001b[34m[92]#011train-rmse:0.00000#011validation-rmse:0.20352\u001b[0m\n",
      "\u001b[34m[93]#011train-rmse:0.00000#011validation-rmse:0.20352\u001b[0m\n",
      "\u001b[34m[94]#011train-rmse:0.00000#011validation-rmse:0.20352\u001b[0m\n",
      "\u001b[34m[95]#011train-rmse:0.00000#011validation-rmse:0.20352\u001b[0m\n",
      "\u001b[34m[96]#011train-rmse:0.00000#011validation-rmse:0.20352\u001b[0m\n",
      "\u001b[34m[97]#011train-rmse:0.00000#011validation-rmse:0.20352\u001b[0m\n",
      "\u001b[34m[98]#011train-rmse:0.00000#011validation-rmse:0.20352\u001b[0m\n",
      "\u001b[34m[99]#011train-rmse:0.00000#011validation-rmse:0.20352\u001b[0m\n",
      "\u001b[34mStored trained model at /opt/ml/model/xgboost-model\u001b[0m\n",
      "Training seconds: 63\n",
      "Billable seconds: 63\n"
     ]
    }
   ],
   "source": [
    "xgb_opt=sagemaker.estimator.Estimator.attach(xgb_tuner.best_training_job())"
   ]
  },
  {
   "cell_type": "code",
   "execution_count": 1348,
   "metadata": {},
   "outputs": [
    {
     "name": "stderr",
     "output_type": "stream",
     "text": [
      "WARNING: Parameter image will be renamed to image_uri in SageMaker Python SDK v2.\n"
     ]
    },
    {
     "name": "stdout",
     "output_type": "stream",
     "text": [
      "Creating model with name: sagemaker-xgboost-200812-1459-012-1bc91eba\n"
     ]
    }
   ],
   "source": [
    "xgb_transformer=xgb_opt.transformer(instance_count=1, instance_type='ml.c4.2xlarge')"
   ]
  },
  {
   "cell_type": "code",
   "execution_count": 1349,
   "metadata": {},
   "outputs": [
    {
     "name": "stdout",
     "output_type": "stream",
     "text": [
      "Creating transform job with name: sagemaker-xgboost-200812-1459-012-1bc91-2020-08-12-18-04-14-985\n",
      "......................................!\n"
     ]
    }
   ],
   "source": [
    "xgb_transformer.transform(path_s3_test, content_type='text/csv', split_type='Line', wait=True)"
   ]
  },
  {
   "cell_type": "code",
   "execution_count": 1350,
   "metadata": {},
   "outputs": [
    {
     "name": "stdout",
     "output_type": "stream",
     "text": [
      "Completed 676 Bytes/676 Bytes (4.9 KiB/s) with 1 file(s) remaining\r",
      "download: s3://sagemaker-eu-central-1-237055357929/sagemaker-xgboost-200812-1459-012-1bc91-2020-08-12-18-04-14-985/test.csv.out to data/test.csv.out\r\n"
     ]
    }
   ],
   "source": [
    "!aws s3 cp --recursive $xgb_transformer.output_path $'data/'"
   ]
  },
  {
   "cell_type": "code",
   "execution_count": 1351,
   "metadata": {},
   "outputs": [
    {
     "name": "stdout",
     "output_type": "stream",
     "text": [
      "Accuracy:  0.9763313609467456\n",
      "Specitivity:  0.9894736842105263\n",
      "Recall:  0.9861111111111112\n"
     ]
    }
   ],
   "source": [
    "with open('data/test.csv.out', 'r') as read_obj:\n",
    "        csv_reader = reader(read_obj)\n",
    "        predicted_label=[]\n",
    "        for row in csv_reader:\n",
    "            predicted_label.append(float(row[0]))\n",
    "eval_metrics(test_labels, np.asarray(predicted_label, dtype='float32'), xgb_opt)"
   ]
  },
  {
   "cell_type": "markdown",
   "metadata": {},
   "source": [
    "Finally, we store the hyperparameters of the tuning job so that these can be used even after model deletion. "
   ]
  },
  {
   "cell_type": "code",
   "execution_count": 1380,
   "metadata": {},
   "outputs": [
    {
     "name": "stdout",
     "output_type": "stream",
     "text": [
      "{'_tuning_objective_metric': 'validation:rmse', 'booster': '\"gbtree\"', 'eta': '0.2572110893586683', 'eval_metric': '\"rmse\"', 'gamma': '0.5662623155210383', 'max_depth': '10', 'num_round': '135', 'objective': '\"binary:hinge\"', 'sagemaker_container_log_level': '20', 'sagemaker_enable_cloudwatch_metrics': 'false', 'sagemaker_estimator_class_name': '\"XGBoost\"', 'sagemaker_estimator_module': '\"sagemaker.xgboost.estimator\"', 'sagemaker_job_name': '\"sagemaker-xgboost-2020-08-12-14-59-53-748\"', 'sagemaker_program': '\"train.py\"', 'sagemaker_region': '\"eu-central-1\"', 'sagemaker_submit_directory': '\"s3://sagemaker-eu-central-1-237055357929/sagemaker-xgboost-2020-08-12-14-59-53-748/source/sourcedir.tar.gz\"', 'tree_method': '\"exact\"'}\n"
     ]
    }
   ],
   "source": [
    "#obtain hyperparameters\n",
    "hyperparams=xgb_opt.hyperparameters()\n",
    "print(hyperparams)"
   ]
  },
  {
   "cell_type": "code",
   "execution_count": 1382,
   "metadata": {},
   "outputs": [
    {
     "name": "stdout",
     "output_type": "stream",
     "text": [
      "Deleting model with name: sagemaker-xgboost-200812-1459-012-1bc91eba\n"
     ]
    }
   ],
   "source": [
    "xgb_transformer.delete_model()"
   ]
  },
  {
   "cell_type": "markdown",
   "metadata": {},
   "source": [
    "### 5. Outlook: Dimensionality reduction by PCA Analysis"
   ]
  },
  {
   "cell_type": "markdown",
   "metadata": {},
   "source": [
    "Out of curitosity, I would like to investigate whether it would be possible to reduce the problem by one dimension. This could be done by PCA analysis. For this purpose, we set up a PCA estimator with 8 components, which is the total number of features minus one. The PCA estimator is then fit to the entire data set, which is formatted (in preparation) as data records, and deployed. "
   ]
  },
  {
   "cell_type": "code",
   "execution_count": 1561,
   "metadata": {},
   "outputs": [],
   "source": [
    "from sagemaker import PCA\n",
    "\n",
    "N_COMPONENTS=7\n",
    "prefix = 'WBCD'\n",
    "output_path='s3://{}/{}/'.format(bucket, prefix)\n",
    "\n",
    "pca_estimator = PCA(role=role,\n",
    "             train_instance_count=1,\n",
    "             train_instance_type='ml.p2.xlarge',\n",
    "             output_path=output_path, \n",
    "             num_components=N_COMPONENTS, \n",
    "             sagemaker_session=session)"
   ]
  },
  {
   "cell_type": "code",
   "execution_count": 1562,
   "metadata": {},
   "outputs": [
    {
     "name": "stderr",
     "output_type": "stream",
     "text": [
      "WARNING: 'get_image_uri' method will be deprecated in favor of 'ImageURIProvider' class in SageMaker Python SDK v2.\n",
      "WARNING: 's3_input' class will be renamed to 'TrainingInput' in SageMaker Python SDK v2.\n",
      "WARNING: 'get_image_uri' method will be deprecated in favor of 'ImageURIProvider' class in SageMaker Python SDK v2.\n"
     ]
    },
    {
     "name": "stdout",
     "output_type": "stream",
     "text": [
      "Creating training-job with name: pca-2020-08-17-13-58-43-320\n",
      "2020-08-17 13:58:43 Starting - Starting the training job...\n",
      "2020-08-17 13:58:45 Starting - Launching requested ML instances......\n",
      "2020-08-17 14:00:07 Starting - Preparing the instances for training.........\n",
      "2020-08-17 14:01:24 Downloading - Downloading input data...\n",
      "2020-08-17 14:02:08 Training - Training image download completed. Training in progress..\u001b[34mDocker entrypoint called with argument(s): train\u001b[0m\n",
      "\u001b[34mRunning default environment configuration script\u001b[0m\n",
      "\u001b[34m[08/17/2020 14:02:10 INFO 140553593730880] Reading default configuration from /opt/amazon/lib/python2.7/site-packages/algorithm/resources/default-conf.json: {u'_num_gpus': u'auto', u'_log_level': u'info', u'subtract_mean': u'true', u'force_dense': u'true', u'epochs': 1, u'algorithm_mode': u'regular', u'extra_components': u'-1', u'_kvstore': u'dist_sync', u'_num_kv_servers': u'auto'}\u001b[0m\n",
      "\u001b[34m[08/17/2020 14:02:10 INFO 140553593730880] Reading provided configuration from /opt/ml/input/config/hyperparameters.json: {u'feature_dim': u'9', u'mini_batch_size': u'500', u'num_components': u'7'}\u001b[0m\n",
      "\u001b[34m[08/17/2020 14:02:10 INFO 140553593730880] Final configuration: {u'num_components': u'7', u'_num_gpus': u'auto', u'_log_level': u'info', u'subtract_mean': u'true', u'force_dense': u'true', u'epochs': 1, u'algorithm_mode': u'regular', u'feature_dim': u'9', u'extra_components': u'-1', u'_kvstore': u'dist_sync', u'_num_kv_servers': u'auto', u'mini_batch_size': u'500'}\u001b[0m\n",
      "\u001b[34m[08/17/2020 14:02:10 WARNING 140553593730880] Loggers have already been setup.\u001b[0m\n",
      "\u001b[34m[08/17/2020 14:02:10 INFO 140553593730880] Launching parameter server for role scheduler\u001b[0m\n",
      "\u001b[34m[08/17/2020 14:02:10 INFO 140553593730880] {'ECS_CONTAINER_METADATA_URI': 'http://169.254.170.2/v3/4233cc43-f944-4642-a171-b68ff7ce3b13', 'ECS_CONTAINER_METADATA_URI_V4': 'http://169.254.170.2/v4/4233cc43-f944-4642-a171-b68ff7ce3b13', 'PROTOCOL_BUFFERS_PYTHON_IMPLEMENTATION_VERSION': '2', 'PATH': '/opt/amazon/bin:/usr/local/nvidia/bin:/usr/local/sbin:/usr/local/bin:/usr/sbin:/usr/bin:/sbin:/bin:/opt/amazon/bin:/opt/amazon/bin', 'SAGEMAKER_HTTP_PORT': '8080', 'HOME': '/root', 'PYTHONUNBUFFERED': 'TRUE', 'CANONICAL_ENVROOT': '/opt/amazon', 'LD_LIBRARY_PATH': '/opt/amazon/lib/python2.7/site-packages/cv2/../../../../lib:/usr/local/nvidia/lib64:/opt/amazon/lib', 'LANG': 'en_US.utf8', 'DMLC_INTERFACE': 'eth0', 'SHLVL': '1', 'AWS_REGION': 'eu-central-1', 'NVIDIA_VISIBLE_DEVICES': 'all', 'TRAINING_JOB_NAME': 'pca-2020-08-17-13-58-43-320', 'PROTOCOL_BUFFERS_PYTHON_IMPLEMENTATION': 'cpp', 'ENVROOT': '/opt/amazon', 'SAGEMAKER_DATA_PATH': '/opt/ml', 'NVIDIA_DRIVER_CAPABILITIES': 'utility,compute', 'NVIDIA_REQUIRE_CUDA': 'cuda>=9.0', 'OMP_NUM_THREADS': '2', 'HOSTNAME': 'ip-10-0-166-157.eu-central-1.compute.internal', 'AWS_CONTAINER_CREDENTIALS_RELATIVE_URI': '/v2/credentials/90c5265d-aabc-4279-94bc-fffacfc2a8d6', 'PWD': '/', 'TRAINING_JOB_ARN': 'arn:aws:sagemaker:eu-central-1:237055357929:training-job/pca-2020-08-17-13-58-43-320', 'AWS_EXECUTION_ENV': 'AWS_ECS_EC2'}\u001b[0m\n",
      "\u001b[34m[08/17/2020 14:02:10 INFO 140553593730880] envs={'ECS_CONTAINER_METADATA_URI': 'http://169.254.170.2/v3/4233cc43-f944-4642-a171-b68ff7ce3b13', 'ECS_CONTAINER_METADATA_URI_V4': 'http://169.254.170.2/v4/4233cc43-f944-4642-a171-b68ff7ce3b13', 'PROTOCOL_BUFFERS_PYTHON_IMPLEMENTATION_VERSION': '2', 'DMLC_NUM_WORKER': '1', 'DMLC_PS_ROOT_PORT': '9000', 'PATH': '/opt/amazon/bin:/usr/local/nvidia/bin:/usr/local/sbin:/usr/local/bin:/usr/sbin:/usr/bin:/sbin:/bin:/opt/amazon/bin:/opt/amazon/bin', 'SAGEMAKER_HTTP_PORT': '8080', 'HOME': '/root', 'PYTHONUNBUFFERED': 'TRUE', 'CANONICAL_ENVROOT': '/opt/amazon', 'LD_LIBRARY_PATH': '/opt/amazon/lib/python2.7/site-packages/cv2/../../../../lib:/usr/local/nvidia/lib64:/opt/amazon/lib', 'LANG': 'en_US.utf8', 'DMLC_INTERFACE': 'eth0', 'SHLVL': '1', 'DMLC_PS_ROOT_URI': '10.0.166.157', 'AWS_REGION': 'eu-central-1', 'NVIDIA_VISIBLE_DEVICES': 'all', 'TRAINING_JOB_NAME': 'pca-2020-08-17-13-58-43-320', 'PROTOCOL_BUFFERS_PYTHON_IMPLEMENTATION': 'cpp', 'ENVROOT': '/opt/amazon', 'SAGEMAKER_DATA_PATH': '/opt/ml', 'NVIDIA_DRIVER_CAPABILITIES': 'utility,compute', 'NVIDIA_REQUIRE_CUDA': 'cuda>=9.0', 'OMP_NUM_THREADS': '2', 'HOSTNAME': 'ip-10-0-166-157.eu-central-1.compute.internal', 'AWS_CONTAINER_CREDENTIALS_RELATIVE_URI': '/v2/credentials/90c5265d-aabc-4279-94bc-fffacfc2a8d6', 'DMLC_ROLE': 'scheduler', 'PWD': '/', 'DMLC_NUM_SERVER': '1', 'TRAINING_JOB_ARN': 'arn:aws:sagemaker:eu-central-1:237055357929:training-job/pca-2020-08-17-13-58-43-320', 'AWS_EXECUTION_ENV': 'AWS_ECS_EC2'}\u001b[0m\n",
      "\u001b[34m[08/17/2020 14:02:10 INFO 140553593730880] Launching parameter server for role server\u001b[0m\n",
      "\u001b[34m[08/17/2020 14:02:10 INFO 140553593730880] {'ECS_CONTAINER_METADATA_URI': 'http://169.254.170.2/v3/4233cc43-f944-4642-a171-b68ff7ce3b13', 'ECS_CONTAINER_METADATA_URI_V4': 'http://169.254.170.2/v4/4233cc43-f944-4642-a171-b68ff7ce3b13', 'PROTOCOL_BUFFERS_PYTHON_IMPLEMENTATION_VERSION': '2', 'PATH': '/opt/amazon/bin:/usr/local/nvidia/bin:/usr/local/sbin:/usr/local/bin:/usr/sbin:/usr/bin:/sbin:/bin:/opt/amazon/bin:/opt/amazon/bin', 'SAGEMAKER_HTTP_PORT': '8080', 'HOME': '/root', 'PYTHONUNBUFFERED': 'TRUE', 'CANONICAL_ENVROOT': '/opt/amazon', 'LD_LIBRARY_PATH': '/opt/amazon/lib/python2.7/site-packages/cv2/../../../../lib:/usr/local/nvidia/lib64:/opt/amazon/lib', 'LANG': 'en_US.utf8', 'DMLC_INTERFACE': 'eth0', 'SHLVL': '1', 'AWS_REGION': 'eu-central-1', 'NVIDIA_VISIBLE_DEVICES': 'all', 'TRAINING_JOB_NAME': 'pca-2020-08-17-13-58-43-320', 'PROTOCOL_BUFFERS_PYTHON_IMPLEMENTATION': 'cpp', 'ENVROOT': '/opt/amazon', 'SAGEMAKER_DATA_PATH': '/opt/ml', 'NVIDIA_DRIVER_CAPABILITIES': 'utility,compute', 'NVIDIA_REQUIRE_CUDA': 'cuda>=9.0', 'OMP_NUM_THREADS': '2', 'HOSTNAME': 'ip-10-0-166-157.eu-central-1.compute.internal', 'AWS_CONTAINER_CREDENTIALS_RELATIVE_URI': '/v2/credentials/90c5265d-aabc-4279-94bc-fffacfc2a8d6', 'PWD': '/', 'TRAINING_JOB_ARN': 'arn:aws:sagemaker:eu-central-1:237055357929:training-job/pca-2020-08-17-13-58-43-320', 'AWS_EXECUTION_ENV': 'AWS_ECS_EC2'}\u001b[0m\n",
      "\u001b[34m[08/17/2020 14:02:10 INFO 140553593730880] envs={'ECS_CONTAINER_METADATA_URI': 'http://169.254.170.2/v3/4233cc43-f944-4642-a171-b68ff7ce3b13', 'ECS_CONTAINER_METADATA_URI_V4': 'http://169.254.170.2/v4/4233cc43-f944-4642-a171-b68ff7ce3b13', 'PROTOCOL_BUFFERS_PYTHON_IMPLEMENTATION_VERSION': '2', 'DMLC_NUM_WORKER': '1', 'DMLC_PS_ROOT_PORT': '9000', 'PATH': '/opt/amazon/bin:/usr/local/nvidia/bin:/usr/local/sbin:/usr/local/bin:/usr/sbin:/usr/bin:/sbin:/bin:/opt/amazon/bin:/opt/amazon/bin', 'SAGEMAKER_HTTP_PORT': '8080', 'HOME': '/root', 'PYTHONUNBUFFERED': 'TRUE', 'CANONICAL_ENVROOT': '/opt/amazon', 'LD_LIBRARY_PATH': '/opt/amazon/lib/python2.7/site-packages/cv2/../../../../lib:/usr/local/nvidia/lib64:/opt/amazon/lib', 'LANG': 'en_US.utf8', 'DMLC_INTERFACE': 'eth0', 'SHLVL': '1', 'DMLC_PS_ROOT_URI': '10.0.166.157', 'AWS_REGION': 'eu-central-1', 'NVIDIA_VISIBLE_DEVICES': 'all', 'TRAINING_JOB_NAME': 'pca-2020-08-17-13-58-43-320', 'PROTOCOL_BUFFERS_PYTHON_IMPLEMENTATION': 'cpp', 'ENVROOT': '/opt/amazon', 'SAGEMAKER_DATA_PATH': '/opt/ml', 'NVIDIA_DRIVER_CAPABILITIES': 'utility,compute', 'NVIDIA_REQUIRE_CUDA': 'cuda>=9.0', 'OMP_NUM_THREADS': '2', 'HOSTNAME': 'ip-10-0-166-157.eu-central-1.compute.internal', 'AWS_CONTAINER_CREDENTIALS_RELATIVE_URI': '/v2/credentials/90c5265d-aabc-4279-94bc-fffacfc2a8d6', 'DMLC_ROLE': 'server', 'PWD': '/', 'DMLC_NUM_SERVER': '1', 'TRAINING_JOB_ARN': 'arn:aws:sagemaker:eu-central-1:237055357929:training-job/pca-2020-08-17-13-58-43-320', 'AWS_EXECUTION_ENV': 'AWS_ECS_EC2'}\u001b[0m\n",
      "\u001b[34m[08/17/2020 14:02:10 INFO 140553593730880] Environment: {'ECS_CONTAINER_METADATA_URI': 'http://169.254.170.2/v3/4233cc43-f944-4642-a171-b68ff7ce3b13', 'ECS_CONTAINER_METADATA_URI_V4': 'http://169.254.170.2/v4/4233cc43-f944-4642-a171-b68ff7ce3b13', 'PROTOCOL_BUFFERS_PYTHON_IMPLEMENTATION_VERSION': '2', 'DMLC_PS_ROOT_PORT': '9000', 'DMLC_NUM_WORKER': '1', 'SAGEMAKER_HTTP_PORT': '8080', 'PATH': '/opt/amazon/bin:/usr/local/nvidia/bin:/usr/local/sbin:/usr/local/bin:/usr/sbin:/usr/bin:/sbin:/bin:/opt/amazon/bin:/opt/amazon/bin', 'PYTHONUNBUFFERED': 'TRUE', 'CANONICAL_ENVROOT': '/opt/amazon', 'LD_LIBRARY_PATH': '/opt/amazon/lib/python2.7/site-packages/cv2/../../../../lib:/usr/local/nvidia/lib64:/opt/amazon/lib', 'LANG': 'en_US.utf8', 'DMLC_INTERFACE': 'eth0', 'SHLVL': '1', 'DMLC_PS_ROOT_URI': '10.0.166.157', 'AWS_REGION': 'eu-central-1', 'NVIDIA_VISIBLE_DEVICES': 'all', 'TRAINING_JOB_NAME': 'pca-2020-08-17-13-58-43-320', 'HOME': '/root', 'PROTOCOL_BUFFERS_PYTHON_IMPLEMENTATION': 'cpp', 'ENVROOT': '/opt/amazon', 'SAGEMAKER_DATA_PATH': '/opt/ml', 'NVIDIA_DRIVER_CAPABILITIES': 'utility,compute', 'NVIDIA_REQUIRE_CUDA': 'cuda>=9.0', 'OMP_NUM_THREADS': '2', 'HOSTNAME': 'ip-10-0-166-157.eu-central-1.compute.internal', 'AWS_CONTAINER_CREDENTIALS_RELATIVE_URI': '/v2/credentials/90c5265d-aabc-4279-94bc-fffacfc2a8d6', 'DMLC_ROLE': 'worker', 'PWD': '/', 'DMLC_NUM_SERVER': '1', 'TRAINING_JOB_ARN': 'arn:aws:sagemaker:eu-central-1:237055357929:training-job/pca-2020-08-17-13-58-43-320', 'AWS_EXECUTION_ENV': 'AWS_ECS_EC2'}\u001b[0m\n",
      "\u001b[34mProcess 60 is a shell:scheduler.\u001b[0m\n",
      "\u001b[34mProcess 69 is a shell:server.\u001b[0m\n",
      "\u001b[34mProcess 1 is a worker.\u001b[0m\n",
      "\u001b[34m[08/17/2020 14:02:10 INFO 140553593730880] Using default worker.\u001b[0m\n",
      "\u001b[34m[08/17/2020 14:02:10 INFO 140553593730880] Loaded iterator creator application/x-recordio-protobuf for content type ('application/x-recordio-protobuf', '1.0')\u001b[0m\n",
      "\u001b[34m[08/17/2020 14:02:10 INFO 140553593730880] Loaded iterator creator application/x-labeled-vector-protobuf for content type ('application/x-labeled-vector-protobuf', '1.0')\u001b[0m\n",
      "\u001b[34m[08/17/2020 14:02:10 INFO 140553593730880] Loaded iterator creator protobuf for content type ('protobuf', '1.0')\u001b[0m\n",
      "\u001b[34m[08/17/2020 14:02:10 INFO 140553593730880] Create Store: dist_sync\u001b[0m\n",
      "\u001b[34m[08/17/2020 14:02:11 INFO 140553593730880] nvidia-smi took: 0.0754730701447 secs to identify 1 gpus\u001b[0m\n",
      "\u001b[34m[08/17/2020 14:02:11 INFO 140553593730880] Number of GPUs being used: 1\u001b[0m\n",
      "\u001b[34m[08/17/2020 14:02:11 INFO 140553593730880] The default executor is <PCAExecutor on gpu(0)>.\u001b[0m\n",
      "\u001b[34m[08/17/2020 14:02:11 INFO 140553593730880] 9 feature(s) found in 'data'.\u001b[0m\n",
      "\u001b[34m[08/17/2020 14:02:13 INFO 140553593730880] <PCAExecutor on gpu(0)> is assigned to batch slice from 0 to 499.\u001b[0m\n",
      "\u001b[34m#metrics {\"Metrics\": {\"initialize.time\": {\"count\": 1, \"max\": 4331.503868103027, \"sum\": 4331.503868103027, \"min\": 4331.503868103027}}, \"EndTime\": 1597672935.098291, \"Dimensions\": {\"Host\": \"algo-1\", \"Operation\": \"training\", \"Algorithm\": \"PCA\"}, \"StartTime\": 1597672930.743589}\n",
      "\u001b[0m\n",
      "\u001b[34m#metrics {\"Metrics\": {\"Max Batches Seen Between Resets\": {\"count\": 1, \"max\": 0, \"sum\": 0.0, \"min\": 0}, \"Number of Batches Since Last Reset\": {\"count\": 1, \"max\": 0, \"sum\": 0.0, \"min\": 0}, \"Number of Records Since Last Reset\": {\"count\": 1, \"max\": 0, \"sum\": 0.0, \"min\": 0}, \"Total Batches Seen\": {\"count\": 1, \"max\": 0, \"sum\": 0.0, \"min\": 0}, \"Total Records Seen\": {\"count\": 1, \"max\": 0, \"sum\": 0.0, \"min\": 0}, \"Max Records Seen Between Resets\": {\"count\": 1, \"max\": 0, \"sum\": 0.0, \"min\": 0}, \"Reset Count\": {\"count\": 1, \"max\": 0, \"sum\": 0.0, \"min\": 0}}, \"EndTime\": 1597672935.098592, \"Dimensions\": {\"Host\": \"algo-1\", \"Meta\": \"init_train_data_iter\", \"Operation\": \"training\", \"Algorithm\": \"PCA\"}, \"StartTime\": 1597672935.098534}\n",
      "\u001b[0m\n",
      "\u001b[34m[2020-08-17 14:02:15.098] [tensorio] [info] epoch_stats={\"data_pipeline\": \"/opt/ml/input/data/train\", \"epoch\": 0, \"duration\": 4354, \"num_examples\": 1, \"num_bytes\": 48000}\u001b[0m\n",
      "\u001b[34m[2020-08-17 14:02:15.121] [tensorio] [info] epoch_stats={\"data_pipeline\": \"/opt/ml/input/data/train\", \"epoch\": 1, \"duration\": 12, \"num_examples\": 2, \"num_bytes\": 64800}\u001b[0m\n",
      "\u001b[34m#metrics {\"Metrics\": {\"epochs\": {\"count\": 1, \"max\": 1, \"sum\": 1.0, \"min\": 1}, \"update.time\": {\"count\": 1, \"max\": 23.11086654663086, \"sum\": 23.11086654663086, \"min\": 23.11086654663086}}, \"EndTime\": 1597672935.122163, \"Dimensions\": {\"Host\": \"algo-1\", \"Operation\": \"training\", \"Algorithm\": \"PCA\"}, \"StartTime\": 1597672935.098436}\n",
      "\u001b[0m\n",
      "\u001b[34m[08/17/2020 14:02:15 INFO 140553593730880] #progress_metric: host=algo-1, completed 100 % of epochs\u001b[0m\n",
      "\u001b[34m#metrics {\"Metrics\": {\"Max Batches Seen Between Resets\": {\"count\": 1, \"max\": 2, \"sum\": 2.0, \"min\": 2}, \"Number of Batches Since Last Reset\": {\"count\": 1, \"max\": 2, \"sum\": 2.0, \"min\": 2}, \"Number of Records Since Last Reset\": {\"count\": 1, \"max\": 675, \"sum\": 675.0, \"min\": 675}, \"Total Batches Seen\": {\"count\": 1, \"max\": 2, \"sum\": 2.0, \"min\": 2}, \"Total Records Seen\": {\"count\": 1, \"max\": 675, \"sum\": 675.0, \"min\": 675}, \"Max Records Seen Between Resets\": {\"count\": 1, \"max\": 675, \"sum\": 675.0, \"min\": 675}, \"Reset Count\": {\"count\": 1, \"max\": 1, \"sum\": 1.0, \"min\": 1}}, \"EndTime\": 1597672935.122662, \"Dimensions\": {\"Host\": \"algo-1\", \"Meta\": \"training_data_iter\", \"Operation\": \"training\", \"Algorithm\": \"PCA\", \"epoch\": 0}, \"StartTime\": 1597672935.099011}\n",
      "\u001b[0m\n",
      "\u001b[34m[08/17/2020 14:02:15 INFO 140553593730880] #throughput_metric: host=algo-1, train throughput=28386.2077263 records/second\u001b[0m\n",
      "\u001b[34m#metrics {\"Metrics\": {\"finalize.time\": {\"count\": 1, \"max\": 10.812997817993164, \"sum\": 10.812997817993164, \"min\": 10.812997817993164}}, \"EndTime\": 1597672935.133811, \"Dimensions\": {\"Host\": \"algo-1\", \"Operation\": \"training\", \"Algorithm\": \"PCA\"}, \"StartTime\": 1597672935.122306}\n",
      "\u001b[0m\n",
      "\u001b[34m[08/17/2020 14:02:15 INFO 140553593730880] Test data is not provided.\u001b[0m\n",
      "\u001b[34m#metrics {\"Metrics\": {\"totaltime\": {\"count\": 1, \"max\": 4524.538040161133, \"sum\": 4524.538040161133, \"min\": 4524.538040161133}, \"setuptime\": {\"count\": 1, \"max\": 48.54583740234375, \"sum\": 48.54583740234375, \"min\": 48.54583740234375}}, \"EndTime\": 1597672935.144502, \"Dimensions\": {\"Host\": \"algo-1\", \"Operation\": \"training\", \"Algorithm\": \"PCA\"}, \"StartTime\": 1597672935.133865}\n",
      "\u001b[0m\n"
     ]
    },
    {
     "name": "stdout",
     "output_type": "stream",
     "text": [
      "\n",
      "2020-08-17 14:02:24 Uploading - Uploading generated training model\n",
      "2020-08-17 14:02:24 Completed - Training job completed\n",
      "Training seconds: 60\n",
      "Billable seconds: 60\n"
     ]
    }
   ],
   "source": [
    "# the full data set can be used for the PCA fitting: \n",
    "pca_data=np.concatenate([train_features, test_features, validation_features],axis=0)\n",
    "#format these as record set\n",
    "pca_records=pca_estimator.record_set(pca_data)\n",
    "#'train' the PCA model\n",
    "pca_estimator.fit(pca_records)"
   ]
  },
  {
   "cell_type": "code",
   "execution_count": 1563,
   "metadata": {},
   "outputs": [
    {
     "name": "stderr",
     "output_type": "stream",
     "text": [
      "WARNING: Parameter image will be renamed to image_uri in SageMaker Python SDK v2.\n"
     ]
    },
    {
     "name": "stdout",
     "output_type": "stream",
     "text": [
      "Creating model with name: pca-2020-08-17-13-58-43-320\n",
      "Creating endpoint with name pca-2020-08-17-13-58-43-320\n",
      "---------------!CPU times: user 295 ms, sys: 660 µs, total: 296 ms\n",
      "Wall time: 7min 31s\n"
     ]
    }
   ],
   "source": [
    "%%time\n",
    "pca_predictor = pca_estimator.deploy(initial_instance_count=1, \n",
    "                              instance_type='ml.t2.medium')"
   ]
  },
  {
   "cell_type": "markdown",
   "metadata": {},
   "source": [
    "We use the PCA predictor in order to get projections of the test, train and validation features to the lower dimensional space. "
   ]
  },
  {
   "cell_type": "code",
   "execution_count": 1564,
   "metadata": {},
   "outputs": [
    {
     "name": "stdout",
     "output_type": "stream",
     "text": [
      "label {\n",
      "  key: \"projection\"\n",
      "  value {\n",
      "    float32_tensor {\n",
      "      values: 0.9537190198898315\n",
      "      values: 0.2905464768409729\n",
      "      values: -0.4504511058330536\n",
      "      values: -0.10861891508102417\n",
      "      values: 0.8418998718261719\n",
      "      values: 0.2672399580478668\n",
      "      values: -5.3769965171813965\n",
      "    }\n",
      "  }\n",
      "}\n",
      "\n",
      "label {\n",
      "  key: \"projection\"\n",
      "  value {\n",
      "    float32_tensor {\n",
      "      values: -0.658599853515625\n",
      "      values: -0.7180497646331787\n",
      "      values: -0.44480183720588684\n",
      "      values: -0.1332743763923645\n",
      "      values: 1.4780797958374023\n",
      "      values: 0.3253072500228882\n",
      "      values: -6.2596330642700195\n",
      "    }\n",
      "  }\n",
      "}\n",
      "\n",
      "label {\n",
      "  key: \"projection\"\n",
      "  value {\n",
      "    float32_tensor {\n",
      "      values: -1.3929357528686523\n",
      "      values: -0.7039487957954407\n",
      "      values: -1.2391774654388428\n",
      "      values: 0.22875314950942993\n",
      "      values: 1.3467453718185425\n",
      "      values: 0.663078784942627\n",
      "      values: -5.4778032302856445\n",
      "    }\n",
      "  }\n",
      "}\n",
      "\n"
     ]
    }
   ],
   "source": [
    "train_pca = pca_predictor.predict(train_features)\n",
    "test_pca = pca_predictor.predict(test_features)\n",
    "validation_pca = pca_predictor.predict(validation_features)\n",
    "\n",
    "print(train_pca[0])\n",
    "print(test_pca[0])\n",
    "print(validation_pca[0])"
   ]
  },
  {
   "cell_type": "markdown",
   "metadata": {},
   "source": [
    "Each features set is then transformed (note that this material has been adopted from Udacity ML Nanodegree course, 2020)."
   ]
  },
  {
   "cell_type": "code",
   "execution_count": 1570,
   "metadata": {},
   "outputs": [],
   "source": [
    "# create dimensionality-reduced data\n",
    "def create_transformed_df(pca, data_features, n_top_components):\n",
    "    ''' Return a dataframe of data points with component features. \n",
    "        :param pca: pca projection of data\n",
    "        :param data_features: a list of original features\n",
    "        :param n_top_components: number of top n componentes to b extracted\n",
    "        :return: A dataframe with n_top_component values as columns.        \n",
    "     '''\n",
    "    # create new dataframe to add data to\n",
    "    features_transformed=pd.DataFrame()\n",
    "\n",
    "    # for each of our new, transformed data points\n",
    "    # append the component values to the dataframe\n",
    "    for data in pca:\n",
    "        # get component values for each data point\n",
    "        components=data.label['projection'].float32_tensor.values\n",
    "        features_transformed= features_transformed.append([list(components)])\n",
    "\n",
    "    # index by county, just like counties_scaled\n",
    "    features_transformed.index=data_features.index\n",
    "\n",
    "    # keep only the top n components\n",
    "    start_idx = N_COMPONENTS - n_top_components\n",
    "    features_transformed = features_transformed.iloc[:,start_idx:]\n",
    "    \n",
    "    # reverse columns, component order     \n",
    "    return features_transformed.iloc[:, ::-1]\n",
    "    "
   ]
  },
  {
   "cell_type": "markdown",
   "metadata": {},
   "source": [
    "Data is transformed for the top 7 components (alternatively, of course, it is possible to select less) and uploaded to S3 bucket."
   ]
  },
  {
   "cell_type": "code",
   "execution_count": 1571,
   "metadata": {},
   "outputs": [],
   "source": [
    "top_n =7\n",
    "#crate the transformation of test, train and validation data\n",
    "train_features_transformed = create_transformed_df(train_pca, pd.DataFrame(train_features), n_top_components=top_n)\n",
    "test_features_transformed = create_transformed_df(test_pca, pd.DataFrame(test_features), n_top_components=top_n)\n",
    "validation_features_transformed=create_transformed_df(validation_pca, pd.DataFrame(validation_features), n_top_components=top_n)"
   ]
  },
  {
   "cell_type": "code",
   "execution_count": 1603,
   "metadata": {},
   "outputs": [
    {
     "name": "stdout",
     "output_type": "stream",
     "text": [
      "s3://sagemaker-eu-central-1-237055357929/WBCD/train_pca.csv\n",
      "s3://sagemaker-eu-central-1-237055357929/WBCD/validation_pca.csv\n",
      "s3://sagemaker-eu-central-1-237055357929/WBCD/test_pca.csv\n"
     ]
    }
   ],
   "source": [
    "# path to training data in S3 bucket\n",
    "#path_s3_train_pca = data_as_txt(name='train_pca.csv',features= train_pca, labels=train_labels)\n",
    "path_s3_train_pca = data_as_txt(name='train_pca.csv',features= train_features_transformed, labels=train_labels)\n",
    "# path to validation data in S3 bucket\n",
    "path_s3_val_pca = data_as_txt(name='validation_pca.csv',features= validation_features_transformed, labels=train_labels)\n",
    "#path_s3_val_pca = data_as_txt(name='validation_pca.csv', features=test_pca,labels=validation_labels)\n",
    "#path to test data in S3 bucket\n",
    "#path_s3_val_pca = data_as_txt(name='validation_pca.csv', features=validation_pca,labels=validation_labels)\n",
    "path_s3_test_pca = data_as_txt(name='test_pca.csv', features=test_features_transformed)\n"
   ]
  },
  {
   "cell_type": "markdown",
   "metadata": {},
   "source": [
    "Now, I would like to use model hyperparameters from the original tuning job, \n",
    "set up and XGBoost model and predict the classification of the test data based on this -dimensionally- reduced data. "
   ]
  },
  {
   "cell_type": "code",
   "execution_count": 57,
   "metadata": {},
   "outputs": [
    {
     "ename": "NameError",
     "evalue": "name 'hyperparams' is not defined",
     "output_type": "error",
     "traceback": [
      "\u001b[0;31m---------------------------------------------------------------------------\u001b[0m",
      "\u001b[0;31mNameError\u001b[0m                                 Traceback (most recent call last)",
      "\u001b[0;32m<ipython-input-57-ddb8a2c6da18>\u001b[0m in \u001b[0;36m<module>\u001b[0;34m\u001b[0m\n\u001b[1;32m      5\u001b[0m         \u001b[0;34m'tree_method'\u001b[0m\u001b[0;34m:\u001b[0m\u001b[0;34m'rmse'\u001b[0m\u001b[0;34m,\u001b[0m\u001b[0;34m\u001b[0m\u001b[0;34m\u001b[0m\u001b[0m\n\u001b[1;32m      6\u001b[0m         \u001b[0;34m'objective'\u001b[0m\u001b[0;34m:\u001b[0m \u001b[0;34m'binary:hinge'\u001b[0m\u001b[0;34m,\u001b[0m\u001b[0;34m\u001b[0m\u001b[0;34m\u001b[0m\u001b[0m\n\u001b[0;32m----> 7\u001b[0;31m         \u001b[0;34m'num_round'\u001b[0m \u001b[0;34m:\u001b[0m \u001b[0mint\u001b[0m\u001b[0;34m(\u001b[0m\u001b[0mhyperparams\u001b[0m\u001b[0;34m[\u001b[0m\u001b[0;34m'num_round'\u001b[0m\u001b[0;34m]\u001b[0m\u001b[0;34m)\u001b[0m\u001b[0;34m,\u001b[0m\u001b[0;34m\u001b[0m\u001b[0;34m\u001b[0m\u001b[0m\n\u001b[0m\u001b[1;32m      8\u001b[0m         \u001b[0;34m'max_depth'\u001b[0m\u001b[0;34m:\u001b[0m\u001b[0mint\u001b[0m\u001b[0;34m(\u001b[0m\u001b[0mhyperparams\u001b[0m\u001b[0;34m[\u001b[0m\u001b[0;34m'max_depth'\u001b[0m\u001b[0;34m]\u001b[0m\u001b[0;34m)\u001b[0m\u001b[0;34m,\u001b[0m\u001b[0;34m\u001b[0m\u001b[0;34m\u001b[0m\u001b[0m\n\u001b[1;32m      9\u001b[0m         \u001b[0;34m'eta'\u001b[0m\u001b[0;34m:\u001b[0m \u001b[0mfloat\u001b[0m\u001b[0;34m(\u001b[0m\u001b[0mhyperparams\u001b[0m\u001b[0;34m[\u001b[0m\u001b[0;34m'eta'\u001b[0m\u001b[0;34m]\u001b[0m\u001b[0;34m)\u001b[0m\u001b[0;34m,\u001b[0m\u001b[0;34m\u001b[0m\u001b[0;34m\u001b[0m\u001b[0m\n",
      "\u001b[0;31mNameError\u001b[0m: name 'hyperparams' is not defined"
     ]
    }
   ],
   "source": [
    "from sagemaker.xgboost.estimator import XGBoost\n",
    "\n",
    "hyperparameters = {\n",
    "        'booster':'gbtree',\n",
    "        'tree_method':'rmse',\n",
    "        'objective': 'binary:hinge',\n",
    "        'num_round' : int(hyperparams['num_round']),\n",
    "        'max_depth':int(hyperparams['max_depth']),\n",
    "        'eta': float(hyperparams['eta']),\n",
    "        'gamma': float(hyperparams['gamma']),\n",
    "        'eval_metric':'rmse'\n",
    "    }\n",
    "xgb_estimator_pca = XGBoost(\n",
    "    entry_point=\"source/train.py\",\n",
    "    hyperparameters=hyperparameters,\n",
    "    role=role,\n",
    "    train_instance_count=1,\n",
    "    train_instance_type=\"ml.m4.xlarge\",\n",
    "    framework_version=\"1.0-1\"\n",
    ")"
   ]
  },
  {
   "cell_type": "code",
   "execution_count": 1605,
   "metadata": {},
   "outputs": [
    {
     "name": "stderr",
     "output_type": "stream",
     "text": [
      "WARNING: 's3_input' class will be renamed to 'TrainingInput' in SageMaker Python SDK v2.\n",
      "WARNING: 's3_input' class will be renamed to 'TrainingInput' in SageMaker Python SDK v2.\n"
     ]
    },
    {
     "name": "stdout",
     "output_type": "stream",
     "text": [
      "Creating training-job with name: sagemaker-xgboost-2020-08-18-08-10-13-949\n",
      "2020-08-18 08:10:14 Starting - Starting the training job...\n",
      "2020-08-18 08:10:16 Starting - Launching requested ML instances......\n",
      "2020-08-18 08:11:36 Starting - Preparing the instances for training......\n",
      "2020-08-18 08:12:43 Downloading - Downloading input data\n",
      "2020-08-18 08:12:43 Training - Downloading the training image.....\u001b[34mINFO:sagemaker-containers:Imported framework sagemaker_xgboost_container.training\u001b[0m\n",
      "\u001b[34mINFO:sagemaker-containers:No GPUs detected (normal if no gpus installed)\u001b[0m\n",
      "\u001b[34mINFO:sagemaker_xgboost_container.training:Invoking user training script.\u001b[0m\n",
      "\u001b[34mINFO:sagemaker-containers:Module train does not provide a setup.py. \u001b[0m\n",
      "\u001b[34mGenerating setup.py\u001b[0m\n",
      "\u001b[34mINFO:sagemaker-containers:Generating setup.cfg\u001b[0m\n",
      "\u001b[34mINFO:sagemaker-containers:Generating MANIFEST.in\u001b[0m\n",
      "\u001b[34mINFO:sagemaker-containers:Installing module with the following command:\u001b[0m\n",
      "\u001b[34m/miniconda3/bin/python -m pip install . \u001b[0m\n",
      "\u001b[34mProcessing /opt/ml/code\u001b[0m\n",
      "\u001b[34mBuilding wheels for collected packages: train\n",
      "  Building wheel for train (setup.py): started\n",
      "  Building wheel for train (setup.py): finished with status 'done'\n",
      "  Created wheel for train: filename=train-1.0.0-py2.py3-none-any.whl size=5605 sha256=a86233c9a1ec36dcae7befac4581d5e03f83ad1e2b71bfb4cca6f244f95dab8c\n",
      "  Stored in directory: /home/model-server/tmp/pip-ephem-wheel-cache-6lwwv2wl/wheels/95/c1/85/65aaf48b35aba88c6e896d2fd04a4b69f1cee0d81ea32993ca\u001b[0m\n",
      "\u001b[34mSuccessfully built train\u001b[0m\n",
      "\u001b[34mInstalling collected packages: train\u001b[0m\n",
      "\u001b[34mSuccessfully installed train-1.0.0\u001b[0m\n",
      "\u001b[34mINFO:sagemaker-containers:No GPUs detected (normal if no gpus installed)\u001b[0m\n",
      "\u001b[34mINFO:sagemaker-containers:Invoking user script\n",
      "\u001b[0m\n",
      "\u001b[34mTraining Env:\n",
      "\u001b[0m\n",
      "\u001b[34m{\n",
      "    \"additional_framework_parameters\": {},\n",
      "    \"channel_input_dirs\": {\n",
      "        \"validation\": \"/opt/ml/input/data/validation\",\n",
      "        \"train\": \"/opt/ml/input/data/train\"\n",
      "    },\n",
      "    \"current_host\": \"algo-1\",\n",
      "    \"framework_module\": \"sagemaker_xgboost_container.training:main\",\n",
      "    \"hosts\": [\n",
      "        \"algo-1\"\n",
      "    ],\n",
      "    \"hyperparameters\": {\n",
      "        \"tree_method\": \"rmse\",\n",
      "        \"eval_metric\": \"rmse\",\n",
      "        \"max_depth\": 10,\n",
      "        \"booster\": \"gbtree\",\n",
      "        \"objective\": \"binary:hinge\",\n",
      "        \"eta\": 0.2572110893586683,\n",
      "        \"num_round\": 135,\n",
      "        \"gamma\": 0.5662623155210383\n",
      "    },\n",
      "    \"input_config_dir\": \"/opt/ml/input/config\",\n",
      "    \"input_data_config\": {\n",
      "        \"validation\": {\n",
      "            \"TrainingInputMode\": \"File\",\n",
      "            \"S3DistributionType\": \"FullyReplicated\",\n",
      "            \"RecordWrapperType\": \"None\"\n",
      "        },\n",
      "        \"train\": {\n",
      "            \"TrainingInputMode\": \"File\",\n",
      "            \"S3DistributionType\": \"FullyReplicated\",\n",
      "            \"RecordWrapperType\": \"None\"\n",
      "        }\n",
      "    },\n",
      "    \"input_dir\": \"/opt/ml/input\",\n",
      "    \"is_master\": true,\n",
      "    \"job_name\": \"sagemaker-xgboost-2020-08-18-08-10-13-949\",\n",
      "    \"log_level\": 20,\n",
      "    \"master_hostname\": \"algo-1\",\n",
      "    \"model_dir\": \"/opt/ml/model\",\n",
      "    \"module_dir\": \"s3://sagemaker-eu-central-1-237055357929/sagemaker-xgboost-2020-08-18-08-10-13-949/source/sourcedir.tar.gz\",\n",
      "    \"module_name\": \"train\",\n",
      "    \"network_interface_name\": \"eth0\",\n",
      "    \"num_cpus\": 4,\n",
      "    \"num_gpus\": 0,\n",
      "    \"output_data_dir\": \"/opt/ml/output/data\",\n",
      "    \"output_dir\": \"/opt/ml/output\",\n",
      "    \"output_intermediate_dir\": \"/opt/ml/output/intermediate\",\n",
      "    \"resource_config\": {\n",
      "        \"current_host\": \"algo-1\",\n",
      "        \"hosts\": [\n",
      "            \"algo-1\"\n",
      "        ],\n",
      "        \"network_interface_name\": \"eth0\"\n",
      "    },\n",
      "    \"user_entry_point\": \"train.py\"\u001b[0m\n",
      "\u001b[34m}\n",
      "\u001b[0m\n",
      "\u001b[34mEnvironment variables:\n",
      "\u001b[0m\n",
      "\u001b[34mSM_HOSTS=[\"algo-1\"]\u001b[0m\n",
      "\u001b[34mSM_NETWORK_INTERFACE_NAME=eth0\u001b[0m\n",
      "\u001b[34mSM_HPS={\"booster\":\"gbtree\",\"eta\":0.2572110893586683,\"eval_metric\":\"rmse\",\"gamma\":0.5662623155210383,\"max_depth\":10,\"num_round\":135,\"objective\":\"binary:hinge\",\"tree_method\":\"rmse\"}\u001b[0m\n",
      "\u001b[34mSM_USER_ENTRY_POINT=train.py\u001b[0m\n",
      "\u001b[34mSM_FRAMEWORK_PARAMS={}\u001b[0m\n",
      "\u001b[34mSM_RESOURCE_CONFIG={\"current_host\":\"algo-1\",\"hosts\":[\"algo-1\"],\"network_interface_name\":\"eth0\"}\u001b[0m\n",
      "\u001b[34mSM_INPUT_DATA_CONFIG={\"train\":{\"RecordWrapperType\":\"None\",\"S3DistributionType\":\"FullyReplicated\",\"TrainingInputMode\":\"File\"},\"validation\":{\"RecordWrapperType\":\"None\",\"S3DistributionType\":\"FullyReplicated\",\"TrainingInputMode\":\"File\"}}\u001b[0m\n",
      "\u001b[34mSM_OUTPUT_DATA_DIR=/opt/ml/output/data\u001b[0m\n",
      "\u001b[34mSM_CHANNELS=[\"train\",\"validation\"]\u001b[0m\n",
      "\u001b[34mSM_CURRENT_HOST=algo-1\u001b[0m\n",
      "\u001b[34mSM_MODULE_NAME=train\u001b[0m\n",
      "\u001b[34mSM_LOG_LEVEL=20\u001b[0m\n",
      "\u001b[34mSM_FRAMEWORK_MODULE=sagemaker_xgboost_container.training:main\u001b[0m\n",
      "\u001b[34mSM_INPUT_DIR=/opt/ml/input\u001b[0m\n",
      "\u001b[34mSM_INPUT_CONFIG_DIR=/opt/ml/input/config\u001b[0m\n",
      "\u001b[34mSM_OUTPUT_DIR=/opt/ml/output\u001b[0m\n",
      "\u001b[34mSM_NUM_CPUS=4\u001b[0m\n",
      "\u001b[34mSM_NUM_GPUS=0\u001b[0m\n",
      "\u001b[34mSM_MODEL_DIR=/opt/ml/model\u001b[0m\n",
      "\u001b[34mSM_MODULE_DIR=s3://sagemaker-eu-central-1-237055357929/sagemaker-xgboost-2020-08-18-08-10-13-949/source/sourcedir.tar.gz\u001b[0m\n",
      "\u001b[34mSM_TRAINING_ENV={\"additional_framework_parameters\":{},\"channel_input_dirs\":{\"train\":\"/opt/ml/input/data/train\",\"validation\":\"/opt/ml/input/data/validation\"},\"current_host\":\"algo-1\",\"framework_module\":\"sagemaker_xgboost_container.training:main\",\"hosts\":[\"algo-1\"],\"hyperparameters\":{\"booster\":\"gbtree\",\"eta\":0.2572110893586683,\"eval_metric\":\"rmse\",\"gamma\":0.5662623155210383,\"max_depth\":10,\"num_round\":135,\"objective\":\"binary:hinge\",\"tree_method\":\"rmse\"},\"input_config_dir\":\"/opt/ml/input/config\",\"input_data_config\":{\"train\":{\"RecordWrapperType\":\"None\",\"S3DistributionType\":\"FullyReplicated\",\"TrainingInputMode\":\"File\"},\"validation\":{\"RecordWrapperType\":\"None\",\"S3DistributionType\":\"FullyReplicated\",\"TrainingInputMode\":\"File\"}},\"input_dir\":\"/opt/ml/input\",\"is_master\":true,\"job_name\":\"sagemaker-xgboost-2020-08-18-08-10-13-949\",\"log_level\":20,\"master_hostname\":\"algo-1\",\"model_dir\":\"/opt/ml/model\",\"module_dir\":\"s3://sagemaker-eu-central-1-237055357929/sagemaker-xgboost-2020-08-18-08-10-13-949/source/sourcedir.tar.gz\",\"module_name\":\"train\",\"network_interface_name\":\"eth0\",\"num_cpus\":4,\"num_gpus\":0,\"output_data_dir\":\"/opt/ml/output/data\",\"output_dir\":\"/opt/ml/output\",\"output_intermediate_dir\":\"/opt/ml/output/intermediate\",\"resource_config\":{\"current_host\":\"algo-1\",\"hosts\":[\"algo-1\"],\"network_interface_name\":\"eth0\"},\"user_entry_point\":\"train.py\"}\u001b[0m\n",
      "\u001b[34mSM_USER_ARGS=[\"--booster\",\"gbtree\",\"--eta\",\"0.2572110893586683\",\"--eval_metric\",\"rmse\",\"--gamma\",\"0.5662623155210383\",\"--max_depth\",\"10\",\"--num_round\",\"135\",\"--objective\",\"binary:hinge\",\"--tree_method\",\"rmse\"]\u001b[0m\n",
      "\u001b[34mSM_OUTPUT_INTERMEDIATE_DIR=/opt/ml/output/intermediate\u001b[0m\n",
      "\u001b[34mSM_CHANNEL_VALIDATION=/opt/ml/input/data/validation\u001b[0m\n",
      "\u001b[34mSM_CHANNEL_TRAIN=/opt/ml/input/data/train\u001b[0m\n",
      "\u001b[34mSM_HP_TREE_METHOD=rmse\u001b[0m\n",
      "\u001b[34mSM_HP_EVAL_METRIC=rmse\u001b[0m\n",
      "\u001b[34mSM_HP_MAX_DEPTH=10\u001b[0m\n",
      "\u001b[34mSM_HP_BOOSTER=gbtree\u001b[0m\n",
      "\u001b[34mSM_HP_OBJECTIVE=binary:hinge\u001b[0m\n",
      "\u001b[34mSM_HP_ETA=0.2572110893586683\u001b[0m\n",
      "\u001b[34mSM_HP_NUM_ROUND=135\u001b[0m\n",
      "\u001b[34mSM_HP_GAMMA=0.5662623155210383\u001b[0m\n",
      "\u001b[34mPYTHONPATH=/miniconda3/bin:/:/miniconda3/lib/python3.6/site-packages/xgboost/dmlc-core/tracker:/miniconda3/lib/python36.zip:/miniconda3/lib/python3.6:/miniconda3/lib/python3.6/lib-dynload:/miniconda3/lib/python3.6/site-packages\n",
      "\u001b[0m\n",
      "\u001b[34mInvoking script with the following command:\n",
      "\u001b[0m\n",
      "\u001b[34m/miniconda3/bin/python -m train --booster gbtree --eta 0.2572110893586683 --eval_metric rmse --gamma 0.5662623155210383 --max_depth 10 --num_round 135 --objective binary:hinge --tree_method rmse\n",
      "\n",
      "\u001b[0m\n",
      "\u001b[34mDone parsing hyperparameters.\u001b[0m\n",
      "\u001b[34mDone parsing arguments.\u001b[0m\n",
      "\u001b[34m[08:13:25] 337x7 matrix with 2359 entries loaded from /opt/ml/input/data/train?format=csv&label_column=0&delimiter=,\u001b[0m\n",
      "\u001b[34m/opt/ml/input/data/train\u001b[0m\n",
      "\u001b[34m[08:13:25] 337x7 matrix with 2191 entries loaded from /opt/ml/input/data/validation?format=csv&label_column=0&delimiter=,\u001b[0m\n",
      "\u001b[34mDone defining data and host information.\u001b[0m\n",
      "\u001b[34mDone loading hosts.\u001b[0m\n",
      "\u001b[34mDone setting up hyperparams\u001b[0m\n",
      "\u001b[34m[08:13:26] WARNING: /workspace/src/learner.cc:328: \u001b[0m\n",
      "\u001b[34mParameters: { n_estimators } might not be used.\n",
      "\n",
      "  This may not be accurate due to some parameters are only used in language bindings but\n",
      "  passed down to XGBoost core.  Or some parameters are not used but slip through this\n",
      "  verification. Please open an issue if you find above cases.\n",
      "\n",
      "\u001b[0m\n",
      "\u001b[34m[0]#011train-rmse:0.81164#011validation-rmse:0.81164\u001b[0m\n",
      "\u001b[34m[1]#011train-rmse:0.14412#011validation-rmse:0.74292\u001b[0m\n",
      "\u001b[34m[2]#011train-rmse:0.07704#011validation-rmse:0.73690\u001b[0m\n",
      "\u001b[34m[3]#011train-rmse:0.00000#011validation-rmse:0.73690\u001b[0m\n",
      "\u001b[34m[4]#011train-rmse:0.00000#011validation-rmse:0.73690\u001b[0m\n",
      "\u001b[34m[5]#011train-rmse:0.00000#011validation-rmse:0.73690\u001b[0m\n",
      "\u001b[34m[6]#011train-rmse:0.00000#011validation-rmse:0.73690\u001b[0m\n",
      "\u001b[34m[7]#011train-rmse:0.00000#011validation-rmse:0.73690\u001b[0m\n",
      "\u001b[34m[8]#011train-rmse:0.00000#011validation-rmse:0.73690\u001b[0m\n",
      "\u001b[34m[9]#011train-rmse:0.00000#011validation-rmse:0.73690\u001b[0m\n",
      "\u001b[34m[10]#011train-rmse:0.00000#011validation-rmse:0.73690\u001b[0m\n",
      "\u001b[34m[11]#011train-rmse:0.00000#011validation-rmse:0.73690\u001b[0m\n",
      "\u001b[34m[12]#011train-rmse:0.00000#011validation-rmse:0.73690\u001b[0m\n",
      "\u001b[34m[13]#011train-rmse:0.00000#011validation-rmse:0.73690\u001b[0m\n",
      "\u001b[34m[14]#011train-rmse:0.00000#011validation-rmse:0.73690\u001b[0m\n",
      "\u001b[34m[15]#011train-rmse:0.00000#011validation-rmse:0.73690\u001b[0m\n",
      "\u001b[34m[16]#011train-rmse:0.00000#011validation-rmse:0.73690\u001b[0m\n",
      "\u001b[34m[17]#011train-rmse:0.00000#011validation-rmse:0.73690\u001b[0m\n",
      "\u001b[34m[18]#011train-rmse:0.00000#011validation-rmse:0.73690\u001b[0m\n",
      "\u001b[34m[19]#011train-rmse:0.00000#011validation-rmse:0.73690\u001b[0m\n",
      "\u001b[34m[20]#011train-rmse:0.00000#011validation-rmse:0.73690\u001b[0m\n",
      "\u001b[34m[21]#011train-rmse:0.00000#011validation-rmse:0.73690\u001b[0m\n",
      "\u001b[34m[22]#011train-rmse:0.00000#011validation-rmse:0.73690\u001b[0m\n",
      "\u001b[34m[23]#011train-rmse:0.00000#011validation-rmse:0.73690\u001b[0m\n",
      "\u001b[34m[24]#011train-rmse:0.00000#011validation-rmse:0.73690\u001b[0m\n",
      "\u001b[34m[25]#011train-rmse:0.00000#011validation-rmse:0.73690\u001b[0m\n",
      "\u001b[34m[26]#011train-rmse:0.00000#011validation-rmse:0.73690\u001b[0m\n",
      "\u001b[34m[27]#011train-rmse:0.00000#011validation-rmse:0.73690\u001b[0m\n",
      "\u001b[34m[28]#011train-rmse:0.00000#011validation-rmse:0.73690\u001b[0m\n",
      "\u001b[34m[29]#011train-rmse:0.00000#011validation-rmse:0.73690\u001b[0m\n",
      "\u001b[34m[30]#011train-rmse:0.00000#011validation-rmse:0.73690\u001b[0m\n",
      "\u001b[34m[31]#011train-rmse:0.00000#011validation-rmse:0.73690\u001b[0m\n",
      "\u001b[34m[32]#011train-rmse:0.00000#011validation-rmse:0.73690\u001b[0m\n",
      "\u001b[34m[33]#011train-rmse:0.00000#011validation-rmse:0.73690\u001b[0m\n",
      "\u001b[34m[34]#011train-rmse:0.00000#011validation-rmse:0.73690\u001b[0m\n",
      "\u001b[34m[35]#011train-rmse:0.00000#011validation-rmse:0.73690\u001b[0m\n",
      "\u001b[34m[36]#011train-rmse:0.00000#011validation-rmse:0.73690\u001b[0m\n",
      "\u001b[34m[37]#011train-rmse:0.00000#011validation-rmse:0.73690\u001b[0m\n",
      "\u001b[34m[38]#011train-rmse:0.00000#011validation-rmse:0.73690\u001b[0m\n",
      "\u001b[34m[39]#011train-rmse:0.00000#011validation-rmse:0.73690\u001b[0m\n",
      "\u001b[34m[40]#011train-rmse:0.00000#011validation-rmse:0.73690\u001b[0m\n",
      "\u001b[34m[41]#011train-rmse:0.00000#011validation-rmse:0.73690\u001b[0m\n",
      "\u001b[34m[42]#011train-rmse:0.00000#011validation-rmse:0.73690\u001b[0m\n",
      "\u001b[34m[43]#011train-rmse:0.00000#011validation-rmse:0.73690\u001b[0m\n",
      "\u001b[34m[44]#011train-rmse:0.00000#011validation-rmse:0.73690\u001b[0m\n",
      "\u001b[34m[45]#011train-rmse:0.00000#011validation-rmse:0.73690\u001b[0m\n",
      "\u001b[34m[46]#011train-rmse:0.00000#011validation-rmse:0.73690\u001b[0m\n",
      "\u001b[34m[47]#011train-rmse:0.00000#011validation-rmse:0.73690\u001b[0m\n",
      "\u001b[34m[48]#011train-rmse:0.00000#011validation-rmse:0.73690\u001b[0m\n",
      "\u001b[34m[49]#011train-rmse:0.00000#011validation-rmse:0.73690\u001b[0m\n",
      "\u001b[34m[50]#011train-rmse:0.00000#011validation-rmse:0.73690\u001b[0m\n",
      "\u001b[34m[51]#011train-rmse:0.00000#011validation-rmse:0.73690\u001b[0m\n",
      "\u001b[34m[52]#011train-rmse:0.00000#011validation-rmse:0.73690\u001b[0m\n",
      "\u001b[34m[53]#011train-rmse:0.00000#011validation-rmse:0.73690\u001b[0m\n",
      "\u001b[34m[54]#011train-rmse:0.00000#011validation-rmse:0.73690\u001b[0m\n",
      "\u001b[34m[55]#011train-rmse:0.00000#011validation-rmse:0.73690\u001b[0m\n",
      "\u001b[34m[56]#011train-rmse:0.00000#011validation-rmse:0.73690\u001b[0m\n",
      "\u001b[34m[57]#011train-rmse:0.00000#011validation-rmse:0.73690\u001b[0m\n",
      "\u001b[34m[58]#011train-rmse:0.00000#011validation-rmse:0.73690\u001b[0m\n",
      "\u001b[34m[59]#011train-rmse:0.00000#011validation-rmse:0.73690\u001b[0m\n",
      "\u001b[34m[60]#011train-rmse:0.00000#011validation-rmse:0.73690\u001b[0m\n",
      "\u001b[34m[61]#011train-rmse:0.00000#011validation-rmse:0.73690\u001b[0m\n",
      "\u001b[34m[62]#011train-rmse:0.00000#011validation-rmse:0.73690\u001b[0m\n",
      "\u001b[34m[63]#011train-rmse:0.00000#011validation-rmse:0.73690\u001b[0m\n",
      "\u001b[34m[64]#011train-rmse:0.00000#011validation-rmse:0.73690\u001b[0m\n",
      "\u001b[34m[65]#011train-rmse:0.00000#011validation-rmse:0.73690\u001b[0m\n",
      "\u001b[34m[66]#011train-rmse:0.00000#011validation-rmse:0.73690\u001b[0m\n",
      "\u001b[34m[67]#011train-rmse:0.00000#011validation-rmse:0.73690\u001b[0m\n",
      "\u001b[34m[68]#011train-rmse:0.00000#011validation-rmse:0.73690\u001b[0m\n",
      "\u001b[34m[69]#011train-rmse:0.00000#011validation-rmse:0.73690\u001b[0m\n",
      "\u001b[34m[70]#011train-rmse:0.00000#011validation-rmse:0.73690\u001b[0m\n",
      "\u001b[34m[71]#011train-rmse:0.00000#011validation-rmse:0.73690\u001b[0m\n",
      "\u001b[34m[72]#011train-rmse:0.00000#011validation-rmse:0.73690\u001b[0m\n",
      "\u001b[34m[73]#011train-rmse:0.00000#011validation-rmse:0.73690\u001b[0m\n",
      "\u001b[34m[74]#011train-rmse:0.00000#011validation-rmse:0.73690\u001b[0m\n",
      "\u001b[34m[75]#011train-rmse:0.00000#011validation-rmse:0.73690\u001b[0m\n",
      "\u001b[34m[76]#011train-rmse:0.00000#011validation-rmse:0.73690\u001b[0m\n",
      "\u001b[34m[77]#011train-rmse:0.00000#011validation-rmse:0.73690\u001b[0m\n",
      "\u001b[34m[78]#011train-rmse:0.00000#011validation-rmse:0.73690\u001b[0m\n",
      "\u001b[34m[79]#011train-rmse:0.00000#011validation-rmse:0.73690\u001b[0m\n",
      "\u001b[34m[80]#011train-rmse:0.00000#011validation-rmse:0.73690\u001b[0m\n",
      "\u001b[34m[81]#011train-rmse:0.00000#011validation-rmse:0.73690\u001b[0m\n",
      "\u001b[34m[82]#011train-rmse:0.00000#011validation-rmse:0.73690\u001b[0m\n",
      "\u001b[34m[83]#011train-rmse:0.00000#011validation-rmse:0.73690\u001b[0m\n",
      "\u001b[34m[84]#011train-rmse:0.00000#011validation-rmse:0.73690\u001b[0m\n",
      "\u001b[34m[85]#011train-rmse:0.00000#011validation-rmse:0.73690\u001b[0m\n",
      "\u001b[34m[86]#011train-rmse:0.00000#011validation-rmse:0.73690\u001b[0m\n",
      "\u001b[34m[87]#011train-rmse:0.00000#011validation-rmse:0.73690\u001b[0m\n",
      "\u001b[34m[88]#011train-rmse:0.00000#011validation-rmse:0.73690\u001b[0m\n",
      "\u001b[34m[89]#011train-rmse:0.00000#011validation-rmse:0.73690\u001b[0m\n",
      "\u001b[34m[90]#011train-rmse:0.00000#011validation-rmse:0.73690\u001b[0m\n",
      "\u001b[34m[91]#011train-rmse:0.00000#011validation-rmse:0.73690\u001b[0m\n",
      "\u001b[34m[92]#011train-rmse:0.00000#011validation-rmse:0.73690\u001b[0m\n",
      "\u001b[34m[93]#011train-rmse:0.00000#011validation-rmse:0.73690\u001b[0m\n",
      "\u001b[34m[94]#011train-rmse:0.00000#011validation-rmse:0.73690\u001b[0m\n",
      "\u001b[34m[95]#011train-rmse:0.00000#011validation-rmse:0.73690\u001b[0m\n",
      "\u001b[34m[96]#011train-rmse:0.00000#011validation-rmse:0.73690\u001b[0m\n",
      "\u001b[34m[97]#011train-rmse:0.00000#011validation-rmse:0.73690\u001b[0m\n",
      "\u001b[34m[98]#011train-rmse:0.00000#011validation-rmse:0.73690\u001b[0m\n",
      "\u001b[34m[99]#011train-rmse:0.00000#011validation-rmse:0.73690\u001b[0m\n",
      "\u001b[34mStored trained model at /opt/ml/model/xgboost-model\u001b[0m\n"
     ]
    },
    {
     "name": "stdout",
     "output_type": "stream",
     "text": [
      "\n",
      "2020-08-18 08:13:34 Uploading - Uploading generated training model\n",
      "2020-08-18 08:13:34 Completed - Training job completed\n",
      "Training seconds: 69\n",
      "Billable seconds: 69\n"
     ]
    }
   ],
   "source": [
    "\n",
    "xgb_estimator_pca.fit({'train': path_s3_train_pca,'validation': path_s3_val_pca}, wait=True)"
   ]
  },
  {
   "cell_type": "code",
   "execution_count": 1606,
   "metadata": {},
   "outputs": [
    {
     "name": "stderr",
     "output_type": "stream",
     "text": [
      "WARNING: Parameter image will be renamed to image_uri in SageMaker Python SDK v2.\n"
     ]
    },
    {
     "name": "stdout",
     "output_type": "stream",
     "text": [
      "Creating model with name: sagemaker-xgboost-2020-08-18-08-10-13-949\n",
      "Creating endpoint with name sagemaker-xgboost-2020-08-18-08-10-13-949\n",
      "---------------!"
     ]
    }
   ],
   "source": [
    "xgb_predictor=xgb_estimator_pca.deploy(initial_instance_count=1, instance_type='ml.t2.medium')"
   ]
  },
  {
   "cell_type": "code",
   "execution_count": 1593,
   "metadata": {},
   "outputs": [],
   "source": [
    "from csv import reader\n",
    "def prediction_labels(test_data_path):\n",
    "    ''' Function that requests the predicton for each data set in csv format \n",
    "        and performs some processing of the final result. \n",
    "        param test_data_path : local path to storage of the csv file\n",
    "        returns: array containing predicted labels\n",
    "    '''\n",
    "    xgb_predictor.content_type = \"text/csv\"\n",
    "    xgb_predictor.serializer = str\n",
    "    with open(test_data_path, 'r') as read_obj:\n",
    "    # pass the file object to reader() to get the reader object\n",
    "        csv_reader = reader(read_obj)\n",
    "        predicted_label_result=[]\n",
    "    # Iterate over each row in the csv using reader object\n",
    "        for row in csv_reader:\n",
    "            seperator = ','\n",
    "            str_conversion=seperator.join(row)\n",
    "            result=xgb_predictor.predict(str_conversion)\n",
    "           \n",
    "            predicted_label_result.append(float(result[0][0]))\n",
    "    \n",
    "    return np.asarray( predicted_label_result, dtype=np.float32)"
   ]
  },
  {
   "cell_type": "code",
   "execution_count": 1607,
   "metadata": {},
   "outputs": [
    {
     "name": "stdout",
     "output_type": "stream",
     "text": [
      "[0. 0. 1. 1. 0. 0. 0. 0. 1. 1. 1. 0. 0. 1. 0. 1. 1. 0. 1. 0. 0. 0. 0. 1.\n",
      " 0. 0. 0. 0. 1. 0. 0. 0. 1. 0. 0. 0. 0. 0. 1. 1. 0. 0. 0. 0. 0. 1. 0. 0.\n",
      " 0. 0. 1. 0. 1. 0. 1. 1. 0. 1. 0. 0. 1. 0. 0. 1. 1. 1. 1. 0. 0. 1. 0. 0.\n",
      " 0. 1. 0. 1. 0. 0. 0. 1. 1. 0. 1. 0. 1. 0. 1. 1. 1. 0. 0. 0. 0. 1. 0. 0.\n",
      " 0. 1. 0. 0. 0. 0. 1. 1. 1. 0. 1. 1. 1. 0. 1. 1. 1. 0. 1. 0. 0. 0. 0. 0.\n",
      " 0. 0. 0. 0. 0. 1. 0. 1. 0. 0. 0. 1. 0. 0. 0. 1. 1. 0. 1. 0. 1. 0. 1. 1.\n",
      " 1. 1. 1. 0. 0. 1. 1. 0. 0. 1. 1. 0. 1. 1. 0. 1. 1. 1. 0. 0. 1. 1. 0. 0.\n",
      " 1.]\n",
      "[0. 0. 1. 1. 0. 0. 1. 0. 1. 1. 1. 0. 0. 1. 0. 1. 1. 0. 1. 1. 0. 0. 0. 1.\n",
      " 0. 0. 0. 0. 1. 0. 0. 0. 0. 0. 0. 0. 0. 0. 1. 1. 0. 0. 0. 0. 0. 1. 0. 1.\n",
      " 0. 0. 1. 0. 1. 0. 1. 1. 0. 1. 0. 0. 1. 0. 0. 1. 1. 1. 1. 0. 0. 1. 0. 0.\n",
      " 0. 1. 0. 1. 0. 0. 0. 1. 1. 0. 1. 0. 1. 0. 1. 1. 1. 0. 0. 0. 0. 1. 0. 0.\n",
      " 0. 1. 0. 0. 0. 0. 1. 1. 1. 0. 1. 1. 1. 0. 1. 1. 1. 0. 1. 0. 0. 0. 0. 0.\n",
      " 0. 0. 0. 0. 0. 1. 0. 0. 0. 0. 0. 1. 0. 0. 0. 1. 1. 0. 1. 0. 1. 0. 1. 1.\n",
      " 1. 1. 1. 0. 0. 1. 1. 0. 0. 1. 1. 0. 1. 1. 0. 1. 1. 1. 0. 0. 1. 1. 0. 0.\n",
      " 1.]\n",
      "Accuracy:  0.9704142011834319\n",
      "Specitivity:  0.9693877551020408\n",
      "Recall:  0.9583333333333334\n"
     ]
    }
   ],
   "source": [
    "predicted_labels=prediction_labels('data/test_pca.csv')\n",
    "print(predicted_labels)\n",
    "print(test_labels)\n",
    "accuracy(np.array(test_labels), predicted_labels, xgb_predictor)"
   ]
  },
  {
   "cell_type": "code",
   "execution_count": 1602,
   "metadata": {},
   "outputs": [
    {
     "name": "stderr",
     "output_type": "stream",
     "text": [
      "WARNING: estimator.delete_endpoint() will be deprecated in SageMaker Python SDK v2. Please use the delete_endpoint() function on your predictor instead.\n"
     ]
    },
    {
     "name": "stdout",
     "output_type": "stream",
     "text": [
      "Deleting endpoint with name: sagemaker-xgboost-2020-08-17-08-35-06-840\n"
     ]
    },
    {
     "ename": "ClientError",
     "evalue": "An error occurred (ValidationException) when calling the DeleteEndpoint operation: Could not find endpoint \"arn:aws:sagemaker:eu-central-1:237055357929:endpoint/sagemaker-xgboost-2020-08-17-08-35-06-840\".",
     "output_type": "error",
     "traceback": [
      "\u001b[0;31m---------------------------------------------------------------------------\u001b[0m",
      "\u001b[0;31mClientError\u001b[0m                               Traceback (most recent call last)",
      "\u001b[0;32m<ipython-input-1602-c0bccab992f3>\u001b[0m in \u001b[0;36m<module>\u001b[0;34m\u001b[0m\n\u001b[1;32m      1\u001b[0m \u001b[0;31m#pca_estimator.delete_endpoint()\u001b[0m\u001b[0;34m\u001b[0m\u001b[0;34m\u001b[0m\u001b[0;34m\u001b[0m\u001b[0m\n\u001b[0;32m----> 2\u001b[0;31m \u001b[0mxgb_estimator\u001b[0m\u001b[0;34m.\u001b[0m\u001b[0mdelete_endpoint\u001b[0m\u001b[0;34m(\u001b[0m\u001b[0;34m)\u001b[0m\u001b[0;34m\u001b[0m\u001b[0;34m\u001b[0m\u001b[0m\n\u001b[0m",
      "\u001b[0;32m~/anaconda3/envs/mxnet_p36/lib/python3.6/site-packages/sagemaker/estimator.py\u001b[0m in \u001b[0;36mdelete_endpoint\u001b[0;34m(self)\u001b[0m\n\u001b[1;32m    835\u001b[0m \u001b[0;34m\u001b[0m\u001b[0m\n\u001b[1;32m    836\u001b[0m         \u001b[0mself\u001b[0m\u001b[0;34m.\u001b[0m\u001b[0m_ensure_latest_training_job\u001b[0m\u001b[0;34m(\u001b[0m\u001b[0merror_message\u001b[0m\u001b[0;34m=\u001b[0m\u001b[0;34m\"Endpoint was not created yet\"\u001b[0m\u001b[0;34m)\u001b[0m\u001b[0;34m\u001b[0m\u001b[0;34m\u001b[0m\u001b[0m\n\u001b[0;32m--> 837\u001b[0;31m         \u001b[0mself\u001b[0m\u001b[0;34m.\u001b[0m\u001b[0msagemaker_session\u001b[0m\u001b[0;34m.\u001b[0m\u001b[0mdelete_endpoint\u001b[0m\u001b[0;34m(\u001b[0m\u001b[0mself\u001b[0m\u001b[0;34m.\u001b[0m\u001b[0mlatest_training_job\u001b[0m\u001b[0;34m.\u001b[0m\u001b[0mname\u001b[0m\u001b[0;34m)\u001b[0m\u001b[0;34m\u001b[0m\u001b[0;34m\u001b[0m\u001b[0m\n\u001b[0m\u001b[1;32m    838\u001b[0m \u001b[0;34m\u001b[0m\u001b[0m\n\u001b[1;32m    839\u001b[0m     def transformer(\n",
      "\u001b[0;32m~/anaconda3/envs/mxnet_p36/lib/python3.6/site-packages/sagemaker/session.py\u001b[0m in \u001b[0;36mdelete_endpoint\u001b[0;34m(self, endpoint_name)\u001b[0m\n\u001b[1;32m   2468\u001b[0m         \"\"\"\n\u001b[1;32m   2469\u001b[0m         \u001b[0mLOGGER\u001b[0m\u001b[0;34m.\u001b[0m\u001b[0minfo\u001b[0m\u001b[0;34m(\u001b[0m\u001b[0;34m\"Deleting endpoint with name: %s\"\u001b[0m\u001b[0;34m,\u001b[0m \u001b[0mendpoint_name\u001b[0m\u001b[0;34m)\u001b[0m\u001b[0;34m\u001b[0m\u001b[0;34m\u001b[0m\u001b[0m\n\u001b[0;32m-> 2470\u001b[0;31m         \u001b[0mself\u001b[0m\u001b[0;34m.\u001b[0m\u001b[0msagemaker_client\u001b[0m\u001b[0;34m.\u001b[0m\u001b[0mdelete_endpoint\u001b[0m\u001b[0;34m(\u001b[0m\u001b[0mEndpointName\u001b[0m\u001b[0;34m=\u001b[0m\u001b[0mendpoint_name\u001b[0m\u001b[0;34m)\u001b[0m\u001b[0;34m\u001b[0m\u001b[0;34m\u001b[0m\u001b[0m\n\u001b[0m\u001b[1;32m   2471\u001b[0m \u001b[0;34m\u001b[0m\u001b[0m\n\u001b[1;32m   2472\u001b[0m     \u001b[0;32mdef\u001b[0m \u001b[0mdelete_endpoint_config\u001b[0m\u001b[0;34m(\u001b[0m\u001b[0mself\u001b[0m\u001b[0;34m,\u001b[0m \u001b[0mendpoint_config_name\u001b[0m\u001b[0;34m)\u001b[0m\u001b[0;34m:\u001b[0m\u001b[0;34m\u001b[0m\u001b[0;34m\u001b[0m\u001b[0m\n",
      "\u001b[0;32m~/anaconda3/envs/mxnet_p36/lib/python3.6/site-packages/botocore/client.py\u001b[0m in \u001b[0;36m_api_call\u001b[0;34m(self, *args, **kwargs)\u001b[0m\n\u001b[1;32m    314\u001b[0m                     \"%s() only accepts keyword arguments.\" % py_operation_name)\n\u001b[1;32m    315\u001b[0m             \u001b[0;31m# The \"self\" in this scope is referring to the BaseClient.\u001b[0m\u001b[0;34m\u001b[0m\u001b[0;34m\u001b[0m\u001b[0;34m\u001b[0m\u001b[0m\n\u001b[0;32m--> 316\u001b[0;31m             \u001b[0;32mreturn\u001b[0m \u001b[0mself\u001b[0m\u001b[0;34m.\u001b[0m\u001b[0m_make_api_call\u001b[0m\u001b[0;34m(\u001b[0m\u001b[0moperation_name\u001b[0m\u001b[0;34m,\u001b[0m \u001b[0mkwargs\u001b[0m\u001b[0;34m)\u001b[0m\u001b[0;34m\u001b[0m\u001b[0;34m\u001b[0m\u001b[0m\n\u001b[0m\u001b[1;32m    317\u001b[0m \u001b[0;34m\u001b[0m\u001b[0m\n\u001b[1;32m    318\u001b[0m         \u001b[0m_api_call\u001b[0m\u001b[0;34m.\u001b[0m\u001b[0m__name__\u001b[0m \u001b[0;34m=\u001b[0m \u001b[0mstr\u001b[0m\u001b[0;34m(\u001b[0m\u001b[0mpy_operation_name\u001b[0m\u001b[0;34m)\u001b[0m\u001b[0;34m\u001b[0m\u001b[0;34m\u001b[0m\u001b[0m\n",
      "\u001b[0;32m~/anaconda3/envs/mxnet_p36/lib/python3.6/site-packages/botocore/client.py\u001b[0m in \u001b[0;36m_make_api_call\u001b[0;34m(self, operation_name, api_params)\u001b[0m\n\u001b[1;32m    633\u001b[0m             \u001b[0merror_code\u001b[0m \u001b[0;34m=\u001b[0m \u001b[0mparsed_response\u001b[0m\u001b[0;34m.\u001b[0m\u001b[0mget\u001b[0m\u001b[0;34m(\u001b[0m\u001b[0;34m\"Error\"\u001b[0m\u001b[0;34m,\u001b[0m \u001b[0;34m{\u001b[0m\u001b[0;34m}\u001b[0m\u001b[0;34m)\u001b[0m\u001b[0;34m.\u001b[0m\u001b[0mget\u001b[0m\u001b[0;34m(\u001b[0m\u001b[0;34m\"Code\"\u001b[0m\u001b[0;34m)\u001b[0m\u001b[0;34m\u001b[0m\u001b[0;34m\u001b[0m\u001b[0m\n\u001b[1;32m    634\u001b[0m             \u001b[0merror_class\u001b[0m \u001b[0;34m=\u001b[0m \u001b[0mself\u001b[0m\u001b[0;34m.\u001b[0m\u001b[0mexceptions\u001b[0m\u001b[0;34m.\u001b[0m\u001b[0mfrom_code\u001b[0m\u001b[0;34m(\u001b[0m\u001b[0merror_code\u001b[0m\u001b[0;34m)\u001b[0m\u001b[0;34m\u001b[0m\u001b[0;34m\u001b[0m\u001b[0m\n\u001b[0;32m--> 635\u001b[0;31m             \u001b[0;32mraise\u001b[0m \u001b[0merror_class\u001b[0m\u001b[0;34m(\u001b[0m\u001b[0mparsed_response\u001b[0m\u001b[0;34m,\u001b[0m \u001b[0moperation_name\u001b[0m\u001b[0;34m)\u001b[0m\u001b[0;34m\u001b[0m\u001b[0;34m\u001b[0m\u001b[0m\n\u001b[0m\u001b[1;32m    636\u001b[0m         \u001b[0;32melse\u001b[0m\u001b[0;34m:\u001b[0m\u001b[0;34m\u001b[0m\u001b[0;34m\u001b[0m\u001b[0m\n\u001b[1;32m    637\u001b[0m             \u001b[0;32mreturn\u001b[0m \u001b[0mparsed_response\u001b[0m\u001b[0;34m\u001b[0m\u001b[0;34m\u001b[0m\u001b[0m\n",
      "\u001b[0;31mClientError\u001b[0m: An error occurred (ValidationException) when calling the DeleteEndpoint operation: Could not find endpoint \"arn:aws:sagemaker:eu-central-1:237055357929:endpoint/sagemaker-xgboost-2020-08-17-08-35-06-840\"."
     ]
    }
   ],
   "source": [
    "#pca_estimator.delete_endpoint()\n",
    "xgb_estimator.delete_endpoint()"
   ]
  },
  {
   "cell_type": "markdown",
   "metadata": {},
   "source": [
    "https://scikit-learn.org/stable/auto_examples/classification/plot_classifier_comparison.html"
   ]
  },
  {
   "cell_type": "code",
   "execution_count": null,
   "metadata": {},
   "outputs": [],
   "source": []
  },
  {
   "cell_type": "code",
   "execution_count": 69,
   "metadata": {},
   "outputs": [
    {
     "ename": "AttributeError",
     "evalue": "'AxesSubplot' object has no attribute 'show'",
     "output_type": "error",
     "traceback": [
      "\u001b[0;31m---------------------------------------------------------------------------\u001b[0m",
      "\u001b[0;31mAttributeError\u001b[0m                            Traceback (most recent call last)",
      "\u001b[0;32m<ipython-input-69-2f853a309ca2>\u001b[0m in \u001b[0;36m<module>\u001b[0;34m\u001b[0m\n\u001b[1;32m     61\u001b[0m     \u001b[0;32mfrom\u001b[0m \u001b[0mxgboost\u001b[0m \u001b[0;32mimport\u001b[0m \u001b[0mplot_tree\u001b[0m\u001b[0;34m\u001b[0m\u001b[0;34m\u001b[0m\u001b[0m\n\u001b[1;32m     62\u001b[0m     \u001b[0mplot\u001b[0m\u001b[0;34m=\u001b[0m\u001b[0mplot_tree\u001b[0m\u001b[0;34m(\u001b[0m\u001b[0mx_reg\u001b[0m\u001b[0;34m)\u001b[0m\u001b[0;34m\u001b[0m\u001b[0;34m\u001b[0m\u001b[0m\n\u001b[0;32m---> 63\u001b[0;31m     \u001b[0mplot\u001b[0m\u001b[0;34m.\u001b[0m\u001b[0mshow\u001b[0m\u001b[0;34m(\u001b[0m\u001b[0;34m)\u001b[0m\u001b[0;34m\u001b[0m\u001b[0;34m\u001b[0m\u001b[0m\n\u001b[0m\u001b[1;32m     64\u001b[0m \u001b[0;34m\u001b[0m\u001b[0m\n\u001b[1;32m     65\u001b[0m     \u001b[0;31m#extract first two columns\u001b[0m\u001b[0;34m\u001b[0m\u001b[0;34m\u001b[0m\u001b[0;34m\u001b[0m\u001b[0m\n",
      "\u001b[0;31mAttributeError\u001b[0m: 'AxesSubplot' object has no attribute 'show'"
     ]
    },
    {
     "data": {
      "text/plain": [
       "<Figure size 1944x648 with 0 Axes>"
      ]
     },
     "metadata": {},
     "output_type": "display_data"
    },
    {
     "data": {
      "image/png": "[encoded data removed]",
      "text/plain": [
       "<Figure size 432x288 with 1 Axes>"
      ]
     },
     "metadata": {
      "needs_background": "light"
     },
     "output_type": "display_data"
    }
   ],
   "source": [
    "import numpy as np\n",
    "import matplotlib.pyplot as plt\n",
    "from matplotlib.colors import ListedColormap\n",
    "from sklearn.naive_bayes import GaussianNB\n",
    "from sklearn.datasets import make_moons, make_circles, make_classification\n",
    "#from sklearn.model_selection import train_test_split\n",
    "from sklearn.preprocessing import StandardScaler\n",
    "from xgboost import XGBRegressor\n",
    "\n",
    "h = 1.0  # step size in the mesh\n",
    "\n",
    "names = [\"XGBoost\"]\n",
    "\n",
    "classifiers = [\n",
    "            XGBRegressor(\n",
    "            base_score=0.5, \n",
    "            booster='gblinear', \n",
    "            objective='binary:hinge',\n",
    "            eval_metric='mae',\n",
    "            tree_method='hist',\n",
    "            validate_parameters=1\n",
    ")]\n",
    "\n",
    "x_reg=XGBRegressor(\n",
    "            base_score=0.5, \n",
    "            booster='gbtree', \n",
    "            objective='binary:hinge',\n",
    "            eval_metric='mae',\n",
    "            tree_method='hist',\n",
    "            validate_parameters=1)\n",
    "\n",
    "#X, y = make_classification(n_features=2, n_redundant=0, n_informative=2,\n",
    "                        #   random_state=1, n_clusters_per_class=1)\n",
    "rng = np.random.RandomState(2)\n",
    "#X += 2 * rng.uniform(size=X.shape)\n",
    "#linearly_separable = (X, y)\n",
    "\n",
    "'''datasets = [make_moons(noise=0.3, random_state=0),\n",
    "            make_circles(noise=0.2, factor=0.5, random_state=1),\n",
    "            linearly_separable\n",
    "            ]\n",
    "'''\n",
    "datasets=[df_total.iloc[:,1],df_total.iloc[:,2]]\n",
    "\n",
    "figure = plt.figure(figsize=(27, 9))\n",
    "i = 1\n",
    "# iterate over datasets\n",
    "for ds_cnt, ds in enumerate(datasets):\n",
    "    # preprocess dataset, split into training and test part\n",
    "    #  X, y = [\n",
    "    # df_total.iloc[:,1],\n",
    "    # df_total.iloc[:,2]\n",
    "    #      ],\n",
    "    # [df_total.iloc[:,0],  df_total.iloc[:,0]]\n",
    "\n",
    "    #X = StandardScaler().fit_transform(X)\n",
    "    # X_train, X_test, y_train, y_test = \\\n",
    "    #     train_test_split(X, y, test_size=.4, random_state=42) \n",
    "    (X_train, y_train), (X_test, y_test), (X_val, y_val)=train_test_split(file_df,train_frac=0.5,valid_frac=0.25)\n",
    "    x_reg.fit(X_train, y_train)\n",
    "    from xgboost import plot_tree\n",
    "    plot=plot_tree(x_reg)\n",
    "    plot.show()\n",
    "    \n",
    "    #extract first two columns\n",
    "    X_train=X_train[:,:2]\n",
    "    X_test=X_test[:,:2]\n",
    "    #x_min, x_max = X[:, 0].min() - .5, X[:, 0].max() + .5\n",
    "    #y_min, y_max = X[:, 1].min() - .5, X[:, 1].max() + .5\n",
    "    x_min=0 \n",
    "    x_max=12\n",
    "    y_min=0 \n",
    "    y_max=12\n",
    "    xx, yy = np.meshgrid(np.arange(x_min, x_max, h),\n",
    "                         np.arange(y_min, y_max, h))\n",
    "\n",
    "    # just plot the dataset first\n",
    "    cm = plt.cm.RdBu\n",
    "    cm_bright = ListedColormap(['#FF0000', '#0000FF'])\n",
    "    ax = plt.subplot(len(datasets), len(classifiers) + 1, i)\n",
    "    #ax = plt.subplot(100, 100, i)\n",
    "    #ax=plt.subplot(1,1,i)\n",
    "    if ds_cnt == 0:\n",
    "        ax.set_title(\"Input data\")\n",
    "    # Plot the training points\n",
    "    ax.scatter(X_train[:, 0], X_train[:, 1], c=y_train, cmap=cm_bright,\n",
    "               edgecolors='k')\n",
    "    # Plot the testing points\n",
    "    ax.scatter(X_test[:, 0], X_test[:, 1], c=y_test, cmap=cm_bright, alpha=0.6,\n",
    "               edgecolors='k')\n",
    "    ax.set_xlim(xx.min(), xx.max())\n",
    "    ax.set_ylim(yy.min(), yy.max())\n",
    "    ax.set_xticks(())\n",
    "    ax.set_yticks(())\n",
    "    i += 1\n",
    "\n",
    "    # iterate over classifiers\n",
    "    for name, clf in zip(names, classifiers):\n",
    "        ax = plt.subplot(len(datasets), len(classifiers) + 1, i)\n",
    "       \n",
    "        #ax=plt.subplot(x_max, y_max, i)\n",
    "        clf.fit(X_train, y_train)\n",
    "        score = clf.score(X_test, y_test)\n",
    "\n",
    "        # Plot the decision boundary. For that, we will assign a color to each\n",
    "        # point in the mesh [x_min, x_max]x[y_min, y_max].\n",
    "        if hasattr(clf, \"decision_function\"):\n",
    "            Z = clf.decision_function(np.c_[xx.ravel(), yy.ravel()])\n",
    "        else:\n",
    "            Z = clf.predict_proba(np.c_[xx.ravel(), yy.ravel()])[:, 1]\n",
    "\n",
    "        # Put the result into a color plot\n",
    "        Z = Z.reshape(xx.shape)\n",
    "        ax.contourf(xx, yy, Z, cmap=cm, alpha=.8)\n",
    "\n",
    "        # Plot the training points\n",
    "        ax.scatter(X_train[:, 0], X_train[:, 1], c=y_train, cmap=cm_bright,\n",
    "                   edgecolors='k')\n",
    "        # Plot the testing points\n",
    "        ax.scatter(X_test[:, 0], X_test[:, 1], c=y_test, cmap=cm_bright,\n",
    "                   edgecolors='k', alpha=0.6)\n",
    "\n",
    "        ax.set_xlim(xx.min(), xx.max())\n",
    "        ax.set_ylim(yy.min(), yy.max())\n",
    "        ax.set_xticks(())\n",
    "        ax.set_yticks(())\n",
    "        if ds_cnt == 0:\n",
    "            ax.set_title(name)\n",
    "        ax.text(xx.max() - .3, yy.min() + .3, ('%.2f' % score).lstrip('0'),\n",
    "                size=15, horizontalalignment='right')\n",
    "        i += 1\n",
    "\n",
    "plt.tight_layout()\n",
    "plt.show()"
   ]
  },
  {
   "cell_type": "code",
   "execution_count": 79,
   "metadata": {},
   "outputs": [
    {
     "name": "stderr",
     "output_type": "stream",
     "text": [
      "WARNING: 's3_input' class will be renamed to 'TrainingInput' in SageMaker Python SDK v2.\n",
      "WARNING: 's3_input' class will be renamed to 'TrainingInput' in SageMaker Python SDK v2.\n"
     ]
    },
    {
     "name": "stdout",
     "output_type": "stream",
     "text": [
      "Creating training-job with name: sagemaker-xgboost-2020-08-20-07-07-01-890\n",
      "2020-08-20 07:07:02 Starting - Starting the training job...\n",
      "2020-08-20 07:07:05 Starting - Launching requested ML instances......\n",
      "2020-08-20 07:08:08 Starting - Preparing the instances for training......\n",
      "2020-08-20 07:09:17 Downloading - Downloading input data...\n",
      "2020-08-20 07:09:42 Training - Downloading the training image...\n",
      "2020-08-20 07:10:33 Uploading - Uploading generated training model\n",
      "2020-08-20 07:10:33 Completed - Training job completed\n",
      "\u001b[34mINFO:sagemaker-containers:Imported framework sagemaker_xgboost_container.training\u001b[0m\n",
      "\u001b[34mINFO:sagemaker-containers:No GPUs detected (normal if no gpus installed)\u001b[0m\n",
      "\u001b[34mINFO:sagemaker_xgboost_container.training:Invoking user training script.\u001b[0m\n",
      "\u001b[34mINFO:sagemaker-containers:Module train does not provide a setup.py. \u001b[0m\n",
      "\u001b[34mGenerating setup.py\u001b[0m\n",
      "\u001b[34mINFO:sagemaker-containers:Generating setup.cfg\u001b[0m\n",
      "\u001b[34mINFO:sagemaker-containers:Generating MANIFEST.in\u001b[0m\n",
      "\u001b[34mINFO:sagemaker-containers:Installing module with the following command:\u001b[0m\n",
      "\u001b[34m/miniconda3/bin/python -m pip install . \u001b[0m\n",
      "\u001b[34mProcessing /opt/ml/code\u001b[0m\n",
      "\u001b[34mBuilding wheels for collected packages: train\n",
      "  Building wheel for train (setup.py): started\n",
      "  Building wheel for train (setup.py): finished with status 'done'\n",
      "  Created wheel for train: filename=train-1.0.0-py2.py3-none-any.whl size=5605 sha256=72d90c6212f455199fe47d24988d0abb56e67579a00138172900283c35841403\n",
      "  Stored in directory: /home/model-server/tmp/pip-ephem-wheel-cache-uua2cvgl/wheels/95/c1/85/65aaf48b35aba88c6e896d2fd04a4b69f1cee0d81ea32993ca\u001b[0m\n",
      "\u001b[34mSuccessfully built train\u001b[0m\n",
      "\u001b[34mInstalling collected packages: train\u001b[0m\n",
      "\u001b[34mSuccessfully installed train-1.0.0\u001b[0m\n",
      "\u001b[34mINFO:sagemaker-containers:No GPUs detected (normal if no gpus installed)\u001b[0m\n",
      "\u001b[34mINFO:sagemaker-containers:Invoking user script\n",
      "\u001b[0m\n",
      "\u001b[34mTraining Env:\n",
      "\u001b[0m\n",
      "\u001b[34m{\n",
      "    \"additional_framework_parameters\": {},\n",
      "    \"channel_input_dirs\": {\n",
      "        \"validation\": \"/opt/ml/input/data/validation\",\n",
      "        \"train\": \"/opt/ml/input/data/train\"\n",
      "    },\n",
      "    \"current_host\": \"algo-1\",\n",
      "    \"framework_module\": \"sagemaker_xgboost_container.training:main\",\n",
      "    \"hosts\": [\n",
      "        \"algo-1\"\n",
      "    ],\n",
      "    \"hyperparameters\": {\n",
      "        \"tree_method\": \"rmse\",\n",
      "        \"eval_metric\": \"rmse\",\n",
      "        \"max_depth\": 10,\n",
      "        \"booster\": \"gbtree\",\n",
      "        \"objective\": \"binary:hinge\",\n",
      "        \"eta\": 0.2572110893586683,\n",
      "        \"num_round\": 135,\n",
      "        \"gamma\": 0.5662623155210383\n",
      "    },\n",
      "    \"input_config_dir\": \"/opt/ml/input/config\",\n",
      "    \"input_data_config\": {\n",
      "        \"validation\": {\n",
      "            \"TrainingInputMode\": \"File\",\n",
      "            \"S3DistributionType\": \"FullyReplicated\",\n",
      "            \"RecordWrapperType\": \"None\"\n",
      "        },\n",
      "        \"train\": {\n",
      "            \"TrainingInputMode\": \"File\",\n",
      "            \"S3DistributionType\": \"FullyReplicated\",\n",
      "            \"RecordWrapperType\": \"None\"\n",
      "        }\n",
      "    },\n",
      "    \"input_dir\": \"/opt/ml/input\",\n",
      "    \"is_master\": true,\n",
      "    \"job_name\": \"sagemaker-xgboost-2020-08-20-07-07-01-890\",\n",
      "    \"log_level\": 20,\n",
      "    \"master_hostname\": \"algo-1\",\n",
      "    \"model_dir\": \"/opt/ml/model\",\n",
      "    \"module_dir\": \"s3://sagemaker-eu-central-1-237055357929/sagemaker-xgboost-2020-08-20-07-07-01-890/source/sourcedir.tar.gz\",\n",
      "    \"module_name\": \"train\",\n",
      "    \"network_interface_name\": \"eth0\",\n",
      "    \"num_cpus\": 4,\n",
      "    \"num_gpus\": 0,\n",
      "    \"output_data_dir\": \"/opt/ml/output/data\",\n",
      "    \"output_dir\": \"/opt/ml/output\",\n",
      "    \"output_intermediate_dir\": \"/opt/ml/output/intermediate\",\n",
      "    \"resource_config\": {\n",
      "        \"current_host\": \"algo-1\",\n",
      "        \"hosts\": [\n",
      "            \"algo-1\"\n",
      "        ],\n",
      "        \"network_interface_name\": \"eth0\"\n",
      "    },\n",
      "    \"user_entry_point\": \"train.py\"\u001b[0m\n",
      "\u001b[34m}\n",
      "\u001b[0m\n",
      "\u001b[34mEnvironment variables:\n",
      "\u001b[0m\n",
      "\u001b[34mSM_HOSTS=[\"algo-1\"]\u001b[0m\n",
      "\u001b[34mSM_NETWORK_INTERFACE_NAME=eth0\u001b[0m\n",
      "\u001b[34mSM_HPS={\"booster\":\"gbtree\",\"eta\":0.2572110893586683,\"eval_metric\":\"rmse\",\"gamma\":0.5662623155210383,\"max_depth\":10,\"num_round\":135,\"objective\":\"binary:hinge\",\"tree_method\":\"rmse\"}\u001b[0m\n",
      "\u001b[34mSM_USER_ENTRY_POINT=train.py\u001b[0m\n",
      "\u001b[34mSM_FRAMEWORK_PARAMS={}\u001b[0m\n",
      "\u001b[34mSM_RESOURCE_CONFIG={\"current_host\":\"algo-1\",\"hosts\":[\"algo-1\"],\"network_interface_name\":\"eth0\"}\u001b[0m\n",
      "\u001b[34mSM_INPUT_DATA_CONFIG={\"train\":{\"RecordWrapperType\":\"None\",\"S3DistributionType\":\"FullyReplicated\",\"TrainingInputMode\":\"File\"},\"validation\":{\"RecordWrapperType\":\"None\",\"S3DistributionType\":\"FullyReplicated\",\"TrainingInputMode\":\"File\"}}\u001b[0m\n",
      "\u001b[34mSM_OUTPUT_DATA_DIR=/opt/ml/output/data\u001b[0m\n",
      "\u001b[34mSM_CHANNELS=[\"train\",\"validation\"]\u001b[0m\n",
      "\u001b[34mSM_CURRENT_HOST=algo-1\u001b[0m\n",
      "\u001b[34mSM_MODULE_NAME=train\u001b[0m\n",
      "\u001b[34mSM_LOG_LEVEL=20\u001b[0m\n",
      "\u001b[34mSM_FRAMEWORK_MODULE=sagemaker_xgboost_container.training:main\u001b[0m\n",
      "\u001b[34mSM_INPUT_DIR=/opt/ml/input\u001b[0m\n",
      "\u001b[34mSM_INPUT_CONFIG_DIR=/opt/ml/input/config\u001b[0m\n",
      "\u001b[34mSM_OUTPUT_DIR=/opt/ml/output\u001b[0m\n",
      "\u001b[34mSM_NUM_CPUS=4\u001b[0m\n",
      "\u001b[34mSM_NUM_GPUS=0\u001b[0m\n",
      "\u001b[34mSM_MODEL_DIR=/opt/ml/model\u001b[0m\n",
      "\u001b[34mSM_MODULE_DIR=s3://sagemaker-eu-central-1-237055357929/sagemaker-xgboost-2020-08-20-07-07-01-890/source/sourcedir.tar.gz\u001b[0m\n",
      "\u001b[34mSM_TRAINING_ENV={\"additional_framework_parameters\":{},\"channel_input_dirs\":{\"train\":\"/opt/ml/input/data/train\",\"validation\":\"/opt/ml/input/data/validation\"},\"current_host\":\"algo-1\",\"framework_module\":\"sagemaker_xgboost_container.training:main\",\"hosts\":[\"algo-1\"],\"hyperparameters\":{\"booster\":\"gbtree\",\"eta\":0.2572110893586683,\"eval_metric\":\"rmse\",\"gamma\":0.5662623155210383,\"max_depth\":10,\"num_round\":135,\"objective\":\"binary:hinge\",\"tree_method\":\"rmse\"},\"input_config_dir\":\"/opt/ml/input/config\",\"input_data_config\":{\"train\":{\"RecordWrapperType\":\"None\",\"S3DistributionType\":\"FullyReplicated\",\"TrainingInputMode\":\"File\"},\"validation\":{\"RecordWrapperType\":\"None\",\"S3DistributionType\":\"FullyReplicated\",\"TrainingInputMode\":\"File\"}},\"input_dir\":\"/opt/ml/input\",\"is_master\":true,\"job_name\":\"sagemaker-xgboost-2020-08-20-07-07-01-890\",\"log_level\":20,\"master_hostname\":\"algo-1\",\"model_dir\":\"/opt/ml/model\",\"module_dir\":\"s3://sagemaker-eu-central-1-237055357929/sagemaker-xgboost-2020-08-20-07-07-01-890/source/sourcedir.tar.gz\",\"module_name\":\"train\",\"network_interface_name\":\"eth0\",\"num_cpus\":4,\"num_gpus\":0,\"output_data_dir\":\"/opt/ml/output/data\",\"output_dir\":\"/opt/ml/output\",\"output_intermediate_dir\":\"/opt/ml/output/intermediate\",\"resource_config\":{\"current_host\":\"algo-1\",\"hosts\":[\"algo-1\"],\"network_interface_name\":\"eth0\"},\"user_entry_point\":\"train.py\"}\u001b[0m\n",
      "\u001b[34mSM_USER_ARGS=[\"--booster\",\"gbtree\",\"--eta\",\"0.2572110893586683\",\"--eval_metric\",\"rmse\",\"--gamma\",\"0.5662623155210383\",\"--max_depth\",\"10\",\"--num_round\",\"135\",\"--objective\",\"binary:hinge\",\"--tree_method\",\"rmse\"]\u001b[0m\n",
      "\u001b[34mSM_OUTPUT_INTERMEDIATE_DIR=/opt/ml/output/intermediate\u001b[0m\n",
      "\u001b[34mSM_CHANNEL_VALIDATION=/opt/ml/input/data/validation\u001b[0m\n",
      "\u001b[34mSM_CHANNEL_TRAIN=/opt/ml/input/data/train\u001b[0m\n",
      "\u001b[34mSM_HP_TREE_METHOD=rmse\u001b[0m\n",
      "\u001b[34mSM_HP_EVAL_METRIC=rmse\u001b[0m\n",
      "\u001b[34mSM_HP_MAX_DEPTH=10\u001b[0m\n",
      "\u001b[34mSM_HP_BOOSTER=gbtree\u001b[0m\n",
      "\u001b[34mSM_HP_OBJECTIVE=binary:hinge\u001b[0m\n",
      "\u001b[34mSM_HP_ETA=0.2572110893586683\u001b[0m\n",
      "\u001b[34mSM_HP_NUM_ROUND=135\u001b[0m\n",
      "\u001b[34mSM_HP_GAMMA=0.5662623155210383\u001b[0m\n",
      "\u001b[34mPYTHONPATH=/miniconda3/bin:/:/miniconda3/lib/python3.6/site-packages/xgboost/dmlc-core/tracker:/miniconda3/lib/python36.zip:/miniconda3/lib/python3.6:/miniconda3/lib/python3.6/lib-dynload:/miniconda3/lib/python3.6/site-packages\n",
      "\u001b[0m\n",
      "\u001b[34mInvoking script with the following command:\n",
      "\u001b[0m\n",
      "\u001b[34m/miniconda3/bin/python -m train --booster gbtree --eta 0.2572110893586683 --eval_metric rmse --gamma 0.5662623155210383 --max_depth 10 --num_round 135 --objective binary:hinge --tree_method rmse\n",
      "\n",
      "\u001b[0m\n",
      "\u001b[34mDone parsing hyperparameters.\u001b[0m\n",
      "\u001b[34mDone parsing arguments.\u001b[0m\n",
      "\u001b[34m[07:10:20] 224x9 matrix with 2016 entries loaded from /opt/ml/input/data/train?format=csv&label_column=0&delimiter=,\u001b[0m\n",
      "\u001b[34m/opt/ml/input/data/train\u001b[0m\n",
      "\u001b[34m[07:10:20] 113x9 matrix with 1017 entries loaded from /opt/ml/input/data/validation?format=csv&label_column=0&delimiter=,\u001b[0m\n",
      "\u001b[34mDone defining data and host information.\u001b[0m\n",
      "\u001b[34mDone loading hosts.\u001b[0m\n",
      "\u001b[34mDone setting up hyperparams\u001b[0m\n",
      "\u001b[34m[07:10:20] WARNING: /workspace/src/learner.cc:328: \u001b[0m\n",
      "\u001b[34mParameters: { n_estimators } might not be used.\n",
      "\n",
      "  This may not be accurate due to some parameters are only used in language bindings but\n",
      "  passed down to XGBoost core.  Or some parameters are not used but slip through this\n",
      "  verification. Please open an issue if you find above cases.\n",
      "\n",
      "\u001b[0m\n",
      "\u001b[34m[0]#011train-rmse:0.71026#011validation-rmse:0.70397\u001b[0m\n",
      "\u001b[34m[1]#011train-rmse:0.30619#011validation-rmse:0.42070\u001b[0m\n",
      "\u001b[34m[2]#011train-rmse:0.11573#011validation-rmse:0.36434\u001b[0m\n",
      "\u001b[34m[3]#011train-rmse:0.09449#011validation-rmse:0.36434\u001b[0m\n",
      "\u001b[34m[4]#011train-rmse:0.09449#011validation-rmse:0.36434\u001b[0m\n",
      "\u001b[34m[5]#011train-rmse:0.09449#011validation-rmse:0.36434\u001b[0m\n",
      "\u001b[34m[6]#011train-rmse:0.09449#011validation-rmse:0.36434\u001b[0m\n",
      "\u001b[34m[7]#011train-rmse:0.09449#011validation-rmse:0.35199\u001b[0m\n",
      "\u001b[34m[8]#011train-rmse:0.09449#011validation-rmse:0.35199\u001b[0m\n",
      "\u001b[34m[9]#011train-rmse:0.09449#011validation-rmse:0.35199\u001b[0m\n",
      "\u001b[34m[10]#011train-rmse:0.09449#011validation-rmse:0.35199\u001b[0m\n",
      "\u001b[34m[11]#011train-rmse:0.09449#011validation-rmse:0.35199\u001b[0m\n",
      "\u001b[34m[12]#011train-rmse:0.06681#011validation-rmse:0.35199\u001b[0m\n",
      "\u001b[34m[13]#011train-rmse:0.00000#011validation-rmse:0.35199\u001b[0m\n",
      "\u001b[34m[14]#011train-rmse:0.00000#011validation-rmse:0.35199\u001b[0m\n",
      "\u001b[34m[15]#011train-rmse:0.00000#011validation-rmse:0.35199\u001b[0m\n",
      "\u001b[34m[16]#011train-rmse:0.00000#011validation-rmse:0.35199\u001b[0m\n",
      "\u001b[34m[17]#011train-rmse:0.00000#011validation-rmse:0.35199\u001b[0m\n",
      "\u001b[34m[18]#011train-rmse:0.00000#011validation-rmse:0.35199\u001b[0m\n",
      "\u001b[34m[19]#011train-rmse:0.00000#011validation-rmse:0.35199\u001b[0m\n",
      "\u001b[34m[20]#011train-rmse:0.00000#011validation-rmse:0.35199\u001b[0m\n",
      "\u001b[34m[21]#011train-rmse:0.00000#011validation-rmse:0.35199\u001b[0m\n",
      "\u001b[34m[22]#011train-rmse:0.00000#011validation-rmse:0.35199\u001b[0m\n",
      "\u001b[34m[23]#011train-rmse:0.00000#011validation-rmse:0.35199\u001b[0m\n",
      "\u001b[34m[24]#011train-rmse:0.00000#011validation-rmse:0.35199\u001b[0m\n",
      "\u001b[34m[25]#011train-rmse:0.00000#011validation-rmse:0.35199\u001b[0m\n",
      "\u001b[34m[26]#011train-rmse:0.00000#011validation-rmse:0.35199\u001b[0m\n",
      "\u001b[34m[27]#011train-rmse:0.00000#011validation-rmse:0.35199\u001b[0m\n",
      "\u001b[34m[28]#011train-rmse:0.00000#011validation-rmse:0.35199\u001b[0m\n",
      "\u001b[34m[29]#011train-rmse:0.00000#011validation-rmse:0.35199\u001b[0m\n",
      "\u001b[34m[30]#011train-rmse:0.00000#011validation-rmse:0.35199\u001b[0m\n",
      "\u001b[34m[31]#011train-rmse:0.00000#011validation-rmse:0.33918\u001b[0m\n",
      "\u001b[34m[32]#011train-rmse:0.00000#011validation-rmse:0.35199\u001b[0m\n",
      "\u001b[34m[33]#011train-rmse:0.00000#011validation-rmse:0.33918\u001b[0m\n",
      "\u001b[34m[34]#011train-rmse:0.00000#011validation-rmse:0.35199\u001b[0m\n",
      "\u001b[34m[35]#011train-rmse:0.00000#011validation-rmse:0.33918\u001b[0m\n",
      "\u001b[34m[36]#011train-rmse:0.00000#011validation-rmse:0.35199\u001b[0m\n",
      "\u001b[34m[37]#011train-rmse:0.00000#011validation-rmse:0.33918\u001b[0m\n",
      "\u001b[34m[38]#011train-rmse:0.00000#011validation-rmse:0.35199\u001b[0m\n",
      "\u001b[34m[39]#011train-rmse:0.00000#011validation-rmse:0.33918\u001b[0m\n",
      "\u001b[34m[40]#011train-rmse:0.00000#011validation-rmse:0.35199\u001b[0m\n",
      "\u001b[34m[41]#011train-rmse:0.00000#011validation-rmse:0.33918\u001b[0m\n",
      "\u001b[34m[42]#011train-rmse:0.00000#011validation-rmse:0.35199\u001b[0m\n",
      "\u001b[34m[43]#011train-rmse:0.00000#011validation-rmse:0.33918\u001b[0m\n",
      "\u001b[34m[44]#011train-rmse:0.00000#011validation-rmse:0.33918\u001b[0m\n",
      "\u001b[34m[45]#011train-rmse:0.00000#011validation-rmse:0.33918\u001b[0m\n",
      "\u001b[34m[46]#011train-rmse:0.00000#011validation-rmse:0.33918\u001b[0m\n",
      "\u001b[34m[47]#011train-rmse:0.00000#011validation-rmse:0.33918\u001b[0m\n",
      "\u001b[34m[48]#011train-rmse:0.00000#011validation-rmse:0.33918\u001b[0m\n",
      "\u001b[34m[49]#011train-rmse:0.00000#011validation-rmse:0.33918\u001b[0m\n",
      "\u001b[34m[50]#011train-rmse:0.00000#011validation-rmse:0.33918\u001b[0m\n",
      "\u001b[34m[51]#011train-rmse:0.00000#011validation-rmse:0.33918\u001b[0m\n",
      "\u001b[34m[52]#011train-rmse:0.00000#011validation-rmse:0.33918\u001b[0m\n",
      "\u001b[34m[53]#011train-rmse:0.00000#011validation-rmse:0.35199\u001b[0m\n",
      "\u001b[34m[54]#011train-rmse:0.00000#011validation-rmse:0.33918\u001b[0m\n",
      "\u001b[34m[55]#011train-rmse:0.00000#011validation-rmse:0.35199\u001b[0m\n",
      "\u001b[34m[56]#011train-rmse:0.00000#011validation-rmse:0.33918\u001b[0m\n",
      "\u001b[34m[57]#011train-rmse:0.00000#011validation-rmse:0.35199\u001b[0m\n",
      "\u001b[34m[58]#011train-rmse:0.00000#011validation-rmse:0.33918\u001b[0m\n",
      "\u001b[34m[59]#011train-rmse:0.00000#011validation-rmse:0.35199\u001b[0m\n",
      "\u001b[34m[60]#011train-rmse:0.00000#011validation-rmse:0.33918\u001b[0m\n",
      "\u001b[34m[61]#011train-rmse:0.00000#011validation-rmse:0.35199\u001b[0m\n",
      "\u001b[34m[62]#011train-rmse:0.00000#011validation-rmse:0.33918\u001b[0m\n",
      "\u001b[34m[63]#011train-rmse:0.00000#011validation-rmse:0.35199\u001b[0m\n",
      "\u001b[34m[64]#011train-rmse:0.00000#011validation-rmse:0.33918\u001b[0m\n",
      "\u001b[34m[65]#011train-rmse:0.00000#011validation-rmse:0.35199\u001b[0m\n",
      "\u001b[34m[66]#011train-rmse:0.00000#011validation-rmse:0.33918\u001b[0m\n",
      "\u001b[34m[67]#011train-rmse:0.00000#011validation-rmse:0.35199\u001b[0m\n",
      "\u001b[34m[68]#011train-rmse:0.00000#011validation-rmse:0.33918\u001b[0m\n",
      "\u001b[34m[69]#011train-rmse:0.00000#011validation-rmse:0.35199\u001b[0m\n",
      "\u001b[34m[70]#011train-rmse:0.00000#011validation-rmse:0.33918\u001b[0m\n",
      "\u001b[34m[71]#011train-rmse:0.00000#011validation-rmse:0.35199\u001b[0m\n",
      "\u001b[34m[72]#011train-rmse:0.00000#011validation-rmse:0.33918\u001b[0m\n",
      "\u001b[34m[73]#011train-rmse:0.00000#011validation-rmse:0.35199\u001b[0m\n",
      "\u001b[34m[74]#011train-rmse:0.00000#011validation-rmse:0.33918\u001b[0m\n",
      "\u001b[34m[75]#011train-rmse:0.00000#011validation-rmse:0.35199\u001b[0m\n",
      "\u001b[34m[76]#011train-rmse:0.00000#011validation-rmse:0.33918\u001b[0m\n",
      "\u001b[34m[77]#011train-rmse:0.00000#011validation-rmse:0.35199\u001b[0m\n",
      "\u001b[34m[78]#011train-rmse:0.00000#011validation-rmse:0.33918\u001b[0m\n",
      "\u001b[34m[79]#011train-rmse:0.00000#011validation-rmse:0.35199\u001b[0m\n",
      "\u001b[34m[80]#011train-rmse:0.00000#011validation-rmse:0.33918\u001b[0m\n",
      "\u001b[34m[81]#011train-rmse:0.00000#011validation-rmse:0.35199\u001b[0m\n",
      "\u001b[34m[82]#011train-rmse:0.00000#011validation-rmse:0.33918\u001b[0m\n",
      "\u001b[34m[83]#011train-rmse:0.00000#011validation-rmse:0.35199\u001b[0m\n",
      "\u001b[34m[84]#011train-rmse:0.00000#011validation-rmse:0.33918\u001b[0m\n",
      "\u001b[34m[85]#011train-rmse:0.00000#011validation-rmse:0.35199\u001b[0m\n",
      "\u001b[34m[86]#011train-rmse:0.00000#011validation-rmse:0.33918\u001b[0m\n",
      "\u001b[34m[87]#011train-rmse:0.00000#011validation-rmse:0.35199\u001b[0m\n",
      "\u001b[34m[88]#011train-rmse:0.00000#011validation-rmse:0.33918\u001b[0m\n",
      "\u001b[34m[89]#011train-rmse:0.00000#011validation-rmse:0.35199\u001b[0m\n",
      "\u001b[34m[90]#011train-rmse:0.00000#011validation-rmse:0.33918\u001b[0m\n",
      "\u001b[34m[91]#011train-rmse:0.00000#011validation-rmse:0.35199\u001b[0m\n",
      "\u001b[34m[92]#011train-rmse:0.00000#011validation-rmse:0.33918\u001b[0m\n",
      "\u001b[34m[93]#011train-rmse:0.00000#011validation-rmse:0.35199\u001b[0m\n",
      "\u001b[34m[94]#011train-rmse:0.00000#011validation-rmse:0.33918\u001b[0m\n",
      "\u001b[34m[95]#011train-rmse:0.00000#011validation-rmse:0.35199\u001b[0m\n",
      "\u001b[34m[96]#011train-rmse:0.00000#011validation-rmse:0.33918\u001b[0m\n",
      "\u001b[34m[97]#011train-rmse:0.00000#011validation-rmse:0.35199\u001b[0m\n",
      "\u001b[34m[98]#011train-rmse:0.00000#011validation-rmse:0.33918\u001b[0m\n",
      "\u001b[34m[99]#011train-rmse:0.00000#011validation-rmse:0.35199\u001b[0m\n",
      "\u001b[34mStored trained model at /opt/ml/model/xgboost-model\u001b[0m\n"
     ]
    },
    {
     "name": "stdout",
     "output_type": "stream",
     "text": [
      "Training seconds: 76\n",
      "Billable seconds: 76\n"
     ]
    }
   ],
   "source": [
    "from sagemaker.xgboost.estimator import XGBoost\n",
    "\n",
    "hyperparameters = {\n",
    "        'booster':'gbtree',\n",
    "        'tree_method':'rmse',\n",
    "        'objective': 'binary:hinge',\n",
    "        'num_round' : 135,\n",
    "        'max_depth':10,\n",
    "        'eta': 0.2572110893586683,\n",
    "        'gamma': 0.5662623155210383,\n",
    "        'eval_metric':'rmse'\n",
    "    }\n",
    "xgb_estimator = XGBoost(\n",
    "    entry_point=\"source/train.py\",\n",
    "    hyperparameters=hyperparameters,\n",
    "    role=role,\n",
    "    train_instance_count=1,\n",
    "    train_instance_type=\"ml.m4.xlarge\",\n",
    "    framework_version=\"1.0-1\"\n",
    ")\n",
    "xgb_estimator.fit({'train': path_s3,'validation': path_s3_val}, wait=True)\n"
   ]
  },
  {
   "cell_type": "code",
   "execution_count": 82,
   "metadata": {},
   "outputs": [
    {
     "ename": "AttributeError",
     "evalue": "'str' object has no attribute 'get_dump'",
     "output_type": "error",
     "traceback": [
      "\u001b[0;31m---------------------------------------------------------------------------\u001b[0m",
      "\u001b[0;31mAttributeError\u001b[0m                            Traceback (most recent call last)",
      "\u001b[0;32m<ipython-input-82-a0626ce5da29>\u001b[0m in \u001b[0;36m<module>\u001b[0;34m\u001b[0m\n\u001b[1;32m      1\u001b[0m \u001b[0;32mfrom\u001b[0m \u001b[0mxgboost\u001b[0m \u001b[0;32mimport\u001b[0m \u001b[0mplot_tree\u001b[0m\u001b[0;34m\u001b[0m\u001b[0;34m\u001b[0m\u001b[0m\n\u001b[0;32m----> 2\u001b[0;31m \u001b[0mplot\u001b[0m\u001b[0;34m=\u001b[0m\u001b[0mplot_tree\u001b[0m\u001b[0;34m(\u001b[0m\u001b[0mxgb_estimator\u001b[0m\u001b[0;34m.\u001b[0m\u001b[0moutput_path\u001b[0m\u001b[0;34m)\u001b[0m\u001b[0;34m\u001b[0m\u001b[0;34m\u001b[0m\u001b[0m\n\u001b[0m\u001b[1;32m      3\u001b[0m \u001b[0mplot\u001b[0m\u001b[0;34m.\u001b[0m\u001b[0mshow\u001b[0m\u001b[0;34m(\u001b[0m\u001b[0;34m)\u001b[0m\u001b[0;34m\u001b[0m\u001b[0;34m\u001b[0m\u001b[0m\n",
      "\u001b[0;32m~/anaconda3/envs/mxnet_p36/lib/python3.6/site-packages/xgboost/plotting.py\u001b[0m in \u001b[0;36mplot_tree\u001b[0;34m(booster, fmap, num_trees, rankdir, ax, **kwargs)\u001b[0m\n\u001b[1;32m    243\u001b[0m \u001b[0;34m\u001b[0m\u001b[0m\n\u001b[1;32m    244\u001b[0m     g = to_graphviz(booster, fmap=fmap, num_trees=num_trees, rankdir=rankdir,\n\u001b[0;32m--> 245\u001b[0;31m                     **kwargs)\n\u001b[0m\u001b[1;32m    246\u001b[0m \u001b[0;34m\u001b[0m\u001b[0m\n\u001b[1;32m    247\u001b[0m     \u001b[0ms\u001b[0m \u001b[0;34m=\u001b[0m \u001b[0mBytesIO\u001b[0m\u001b[0;34m(\u001b[0m\u001b[0;34m)\u001b[0m\u001b[0;34m\u001b[0m\u001b[0;34m\u001b[0m\u001b[0m\n",
      "\u001b[0;32m~/anaconda3/envs/mxnet_p36/lib/python3.6/site-packages/xgboost/plotting.py\u001b[0m in \u001b[0;36mto_graphviz\u001b[0;34m(booster, fmap, num_trees, rankdir, yes_color, no_color, condition_node_params, leaf_node_params, **kwargs)\u001b[0m\n\u001b[1;32m    203\u001b[0m         \u001b[0mparameters\u001b[0m \u001b[0;34m+=\u001b[0m \u001b[0;34m':'\u001b[0m\u001b[0;34m\u001b[0m\u001b[0;34m\u001b[0m\u001b[0m\n\u001b[1;32m    204\u001b[0m         \u001b[0mparameters\u001b[0m \u001b[0;34m+=\u001b[0m \u001b[0mstr\u001b[0m\u001b[0;34m(\u001b[0m\u001b[0mkwargs\u001b[0m\u001b[0;34m)\u001b[0m\u001b[0;34m\u001b[0m\u001b[0;34m\u001b[0m\u001b[0m\n\u001b[0;32m--> 205\u001b[0;31m     tree = booster.get_dump(\n\u001b[0m\u001b[1;32m    206\u001b[0m         \u001b[0mfmap\u001b[0m\u001b[0;34m=\u001b[0m\u001b[0mfmap\u001b[0m\u001b[0;34m,\u001b[0m\u001b[0;34m\u001b[0m\u001b[0;34m\u001b[0m\u001b[0m\n\u001b[1;32m    207\u001b[0m         dump_format=parameters)[num_trees]\n",
      "\u001b[0;31mAttributeError\u001b[0m: 'str' object has no attribute 'get_dump'"
     ]
    },
    {
     "data": {
      "image/png": "[encoded data removed]",
      "text/plain": [
       "<Figure size 432x288 with 1 Axes>"
      ]
     },
     "metadata": {
      "needs_background": "light"
     },
     "output_type": "display_data"
    }
   ],
   "source": [
    "from xgboost import plot_tree\n",
    "plot=plot_tree(xgb_estimator)\n",
    "plot.show()"
   ]
  },
  {
   "cell_type": "code",
   "execution_count": null,
   "metadata": {},
   "outputs": [],
   "source": []
  }
 ],
 "metadata": {
  "kernelspec": {
   "display_name": "conda_mxnet_p36",
   "language": "python",
   "name": "conda_mxnet_p36"
  },
  "language_info": {
   "codemirror_mode": {
    "name": "ipython",
    "version": 3
   },
   "file_extension": ".py",
   "mimetype": "text/x-python",
   "name": "python",
   "nbconvert_exporter": "python",
   "pygments_lexer": "ipython3",
   "version": "3.6.10"
  }
 },
 "nbformat": 4,
 "nbformat_minor": 4
}
